{
 "cells": [
  {
   "cell_type": "code",
   "execution_count": 1,
   "metadata": {},
   "outputs": [],
   "source": [
    "from selenium import webdriver\n",
    "from selenium.webdriver.support.wait import WebDriverWait\n",
    "from selenium.webdriver.support import expected_conditions as EC\n",
    "from selenium.webdriver.common.by import By\n",
    "import pickle\n",
    "import time"
   ]
  },
  {
   "cell_type": "code",
   "execution_count": null,
   "metadata": {},
   "outputs": [],
   "source": [
    "def pickle_file(obj, path):\n",
    "    file = open(path, 'wb')\n",
    "    pickle.dump(obj, file)\n",
    "    file.close()\n",
    "\n",
    "def load_pickle(path):\n",
    "    file = open(path, 'rb')\n",
    "    obj = pickle.load(file)\n",
    "    file.close()\n",
    "    return obj"
   ]
  },
  {
   "cell_type": "markdown",
   "metadata": {},
   "source": [
    "### Start Webdriver"
   ]
  },
  {
   "cell_type": "code",
   "execution_count": 2,
   "metadata": {},
   "outputs": [
    {
     "name": "stderr",
     "output_type": "stream",
     "text": [
      "/tmp/ipykernel_20036/2995515328.py:5: DeprecationWarning: executable_path has been deprecated, please pass in a Service object\n",
      "  driver = webdriver.Chrome(driver_path)\n"
     ]
    }
   ],
   "source": [
    "driver_path = './WebDriver/chromedriver'\n",
    "driver = webdriver.Chrome(driver_path)\n",
    "\n",
    "#   options = ChromeOptions()\n",
    "#   driver = webdriver.Chrome(driver_path,options=options)"
   ]
  },
  {
   "cell_type": "markdown",
   "metadata": {},
   "source": [
    "### Load Webpage"
   ]
  },
  {
   "cell_type": "code",
   "execution_count": 3,
   "metadata": {},
   "outputs": [],
   "source": [
    "driver.get('https://www.nasdaq.com/market-activity/ipos')"
   ]
  },
  {
   "cell_type": "markdown",
   "metadata": {},
   "source": [
    "#### Navigate to old date"
   ]
  },
  {
   "cell_type": "code",
   "execution_count": 4,
   "metadata": {},
   "outputs": [],
   "source": [
    "#Open Date \n",
    "date_button = WebDriverWait(driver, 10).until(EC.element_to_be_clickable((\n",
    "    By.XPATH, '/html/body/div[3]/div/main/div[2]/div[2]/div[2]/div/div[2]/div/div[2]/div[2]/button'))\n",
    "    ).click()\n",
    "\n",
    "#Set Date Picker Date\n",
    "date_picker = WebDriverWait(driver, 10).until(EC.element_to_be_clickable((\n",
    "    By.XPATH, '/html/body/div[3]/div/main/div[2]/div[2]/div[2]/div/div[2]/div/div[2]/div[2]/div/input'))\n",
    "    )\n",
    "driver.execute_script(\"arguments[0].value = '01/1995';\", date_picker)     \n",
    "    # .setAttribute('value', '01/1999')\n",
    "\n",
    "#Navigate to New Page\n",
    "apply_date_button = WebDriverWait(driver, 10).until(EC.element_to_be_clickable((\n",
    "    By.XPATH, '/html/body/div[3]/div/main/div[2]/div[2]/div[2]/div/div[2]/div/div[2]/div[2]/div/button[2]'))\n",
    "    ).click()"
   ]
  },
  {
   "cell_type": "code",
   "execution_count": null,
   "metadata": {},
   "outputs": [],
   "source": []
  },
  {
   "cell_type": "code",
   "execution_count": 14,
   "metadata": {},
   "outputs": [
    {
     "name": "stdout",
     "output_type": "stream",
     "text": [
      "[{'proposedTickerSymbol': 'PTSW', 'link': 'https://www.nasdaq.com/market-activity/ipos/overview?dealId=7510-8160', 'companyName': 'POWERTRADER INC', 'proposedExchange': 'Nasdaq SmallCap Market', 'proposedSharePrice': '3.00', 'sharesOffered': '1,700,000', 'pricedDate': '11/03/1997', 'dollarValueOfSharesOffered': '$5,100,000', 'dealStatus': 'Priced'}, {'proposedTickerSymbol': 'XLSW', 'link': 'https://www.nasdaq.com/market-activity/ipos/overview?dealId=10711-9385', 'companyName': 'EXCEL SWITCHING CORP', 'proposedExchange': 'Nasdaq National Market', 'proposedSharePrice': '21', 'sharesOffered': '4,500,000', 'pricedDate': '11/04/1997', 'dollarValueOfSharesOffered': '$94,500,000', 'dealStatus': 'Priced'}, {'proposedTickerSymbol': 'PIN', 'link': 'https://www.nasdaq.com/market-activity/ipos/overview?dealId=7544-9267', 'companyName': 'AMF BOWLING INC', 'proposedExchange': 'New York Stock Exchange', 'proposedSharePrice': '19.50', 'sharesOffered': '13,500,000', 'pricedDate': '11/04/1997', 'dollarValueOfSharesOffered': '$263,250,000', 'dealStatus': 'Priced'}, {'proposedTickerSymbol': 'TWFC', 'link': 'https://www.nasdaq.com/market-activity/ipos/overview?dealId=10582-9275', 'companyName': 'T&W FINANCIAL CORP', 'proposedExchange': 'Nasdaq National Market', 'proposedSharePrice': '16.00', 'sharesOffered': '2,560,000', 'pricedDate': '11/04/1997', 'dollarValueOfSharesOffered': '$40,960,000', 'dealStatus': 'Priced'}, {'proposedTickerSymbol': 'BDI', 'link': 'https://www.nasdaq.com/market-activity/ipos/overview?dealId=43134-9293', 'companyName': 'BAYARD DRILLING TECHNOLOGIES INC', 'proposedExchange': 'American Stock Exchange', 'proposedSharePrice': '23', 'sharesOffered': '9,600,000', 'pricedDate': '11/04/1997', 'dollarValueOfSharesOffered': '$220,800,000', 'dealStatus': 'Priced'}, {'proposedTickerSymbol': 'CLRT', 'link': 'https://www.nasdaq.com/market-activity/ipos/overview?dealId=8935-9226', 'companyName': 'Timios National Corp', 'proposedExchange': 'Nasdaq SmallCap Market', 'proposedSharePrice': '7.50', 'sharesOffered': '2,000,000', 'pricedDate': '11/04/1997', 'dollarValueOfSharesOffered': '$15,000,000', 'dealStatus': 'Priced'}, {'proposedTickerSymbol': 'DENT', 'link': 'https://www.nasdaq.com/market-activity/ipos/overview?dealId=43094-9281', 'companyName': 'DENTAL CARE ALLIANCE INC', 'proposedExchange': 'Nasdaq National Market', 'proposedSharePrice': '12', 'sharesOffered': '2,000,000', 'pricedDate': '11/04/1997', 'dollarValueOfSharesOffered': '$24,000,000', 'dealStatus': 'Priced'}, {'proposedTickerSymbol': 'DPMD', 'link': 'https://www.nasdaq.com/market-activity/ipos/overview?dealId=2551-8692', 'companyName': 'Assertio Therapeutics, Inc', 'proposedExchange': 'Nasdaq National Market', 'proposedSharePrice': '6', 'sharesOffered': '1,200,000', 'pricedDate': '11/05/1997', 'dollarValueOfSharesOffered': '$7,200,000', 'dealStatus': 'Priced'}, {'proposedTickerSymbol': 'HOTD', 'link': 'https://www.nasdaq.com/market-activity/ipos/overview?dealId=6924-9273', 'companyName': 'POPMAIL COM INC', 'proposedExchange': 'Nasdaq SmallCap Market', 'proposedSharePrice': '5', 'sharesOffered': '2,500,000', 'pricedDate': '11/05/1997', 'dollarValueOfSharesOffered': '$12,500,000', 'dealStatus': 'Priced'}, {'proposedTickerSymbol': 'IAIS', 'link': 'https://www.nasdaq.com/market-activity/ipos/overview?dealId=4819-8097', 'companyName': 'INTERNATIONAL AIRCRAFT INVESTORS', 'proposedExchange': 'Nasdaq National Market', 'proposedSharePrice': '10', 'sharesOffered': '2,600,000', 'pricedDate': '11/05/1997', 'dollarValueOfSharesOffered': '$26,000,000', 'dealStatus': 'Priced'}, {'proposedTickerSymbol': 'CTIB', 'link': 'https://www.nasdaq.com/market-activity/ipos/overview?dealId=8131-9122', 'companyName': 'Yunhong CTI Ltd.', 'proposedExchange': 'Nasdaq SmallCap Market', 'proposedSharePrice': '4', 'sharesOffered': '1,500,000', 'pricedDate': '11/05/1997', 'dollarValueOfSharesOffered': '$6,000,000', 'dealStatus': 'Priced'}, {'proposedTickerSymbol': 'YDNT', 'link': 'https://www.nasdaq.com/market-activity/ipos/overview?dealId=737-9324', 'companyName': 'YOUNG INNOVATIONS INC', 'proposedExchange': 'Nasdaq National Market', 'proposedSharePrice': '12', 'sharesOffered': '2,000,000', 'pricedDate': '11/05/1997', 'dollarValueOfSharesOffered': '$24,000,000', 'dealStatus': 'Priced'}, {'proposedTickerSymbol': 'VNET', 'link': 'https://www.nasdaq.com/market-activity/ipos/overview?dealId=8292-8510', 'companyName': 'VOICENET INC', 'proposedExchange': 'Nasdaq SmallCap Market', 'proposedSharePrice': '8.00', 'sharesOffered': '750,750', 'pricedDate': '11/06/1997', 'dollarValueOfSharesOffered': '$6,006,000', 'dealStatus': 'Priced'}, {'proposedTickerSymbol': 'SOMN', 'link': 'https://www.nasdaq.com/market-activity/ipos/overview?dealId=9738-9352', 'companyName': 'SOMNUS MEDICAL TECHNOLOGIES INC', 'proposedExchange': 'Nasdaq National Market', 'proposedSharePrice': '10.50', 'sharesOffered': '4,000,000', 'pricedDate': '11/06/1997', 'dollarValueOfSharesOffered': '$42,000,000', 'dealStatus': 'Priced'}, {'proposedTickerSymbol': 'SKI', 'link': 'https://www.nasdaq.com/market-activity/ipos/overview?dealId=9367-9229', 'companyName': 'AMERICAN SKIING CO /ME', 'proposedExchange': 'New York Stock Exchange', 'proposedSharePrice': '18.00', 'sharesOffered': '14,750,000', 'pricedDate': '11/06/1997', 'dollarValueOfSharesOffered': '$265,500,000', 'dealStatus': 'Priced'}, {'proposedTickerSymbol': 'PACI', 'link': 'https://www.nasdaq.com/market-activity/ipos/overview?dealId=5443-9286', 'companyName': 'PRECISION AUTO CARE INC', 'proposedExchange': 'Nasdaq National Market', 'proposedSharePrice': '9', 'sharesOffered': '2,443,600', 'pricedDate': '11/06/1997', 'dollarValueOfSharesOffered': '$21,992,400', 'dealStatus': 'Priced'}, {'proposedTickerSymbol': 'LNCC', 'link': 'https://www.nasdaq.com/market-activity/ipos/overview?dealId=3050-9312', 'companyName': 'LINC CAPITAL INC', 'proposedExchange': 'Nasdaq National Market', 'proposedSharePrice': '13', 'sharesOffered': '2,000,000', 'pricedDate': '11/06/1997', 'dollarValueOfSharesOffered': '$26,000,000', 'dealStatus': 'Priced'}, {'proposedTickerSymbol': 'BRHZ', 'link': 'https://www.nasdaq.com/market-activity/ipos/overview?dealId=1063-9376', 'companyName': 'BRIGHT HORIZONS INC', 'proposedExchange': 'Nasdaq National Market', 'proposedSharePrice': '13', 'sharesOffered': '2,970,000', 'pricedDate': '11/07/1997', 'dollarValueOfSharesOffered': '$38,610,000', 'dealStatus': 'Priced'}, {'proposedTickerSymbol': 'BBQZY', 'link': 'https://www.nasdaq.com/market-activity/ipos/overview?dealId=2546-9487', 'companyName': 'BARBEQUES GALORE LTD', 'proposedExchange': 'Nasdaq National Market', 'proposedSharePrice': '11', 'sharesOffered': '1,700,000', 'pricedDate': '11/07/1997', 'dollarValueOfSharesOffered': '$18,700,000', 'dealStatus': 'Priced'}, {'proposedTickerSymbol': 'MAK', 'link': 'https://www.nasdaq.com/market-activity/ipos/overview?dealId=4463-9268', 'companyName': 'ENCOMPASS SERVICES CORP', 'proposedExchange': 'New York Stock Exchange', 'proposedSharePrice': '14.00', 'sharesOffered': '7,500,000', 'pricedDate': '11/07/1997', 'dollarValueOfSharesOffered': '$105,000,000', 'dealStatus': 'Priced'}, {'proposedTickerSymbol': 'NDHI', 'link': 'https://www.nasdaq.com/market-activity/ipos/overview?dealId=6813-8226', 'companyName': 'Capital Financial Holdings, Inc', 'proposedExchange': 'OTCBB', 'proposedSharePrice': '3.5', 'sharesOffered': '78,204.00', 'pricedDate': '11/10/1997', 'dollarValueOfSharesOffered': '$273,714', 'dealStatus': 'Priced'}, {'proposedTickerSymbol': 'TKGFA', 'link': 'https://www.nasdaq.com/market-activity/ipos/overview?dealId=9818-9223', 'companyName': 'Degama Software Solutions, Inc.', 'proposedExchange': 'Nasdaq National Market', 'proposedSharePrice': '6.00', 'sharesOffered': '2,100,000', 'pricedDate': '11/10/1997', 'dollarValueOfSharesOffered': '$12,600,000', 'dealStatus': 'Priced'}, {'proposedTickerSymbol': 'SAH', 'link': 'https://www.nasdaq.com/market-activity/ipos/overview?dealId=5783-9211', 'companyName': 'SONIC AUTOMOTIVE INC', 'proposedExchange': 'New York Stock Exchange', 'proposedSharePrice': '12.00', 'sharesOffered': '5,000,000', 'pricedDate': '11/11/1997', 'dollarValueOfSharesOffered': '$60,000,000', 'dealStatus': 'Priced'}, {'proposedTickerSymbol': 'PHON', 'link': 'https://www.nasdaq.com/market-activity/ipos/overview?dealId=2459-9001', 'companyName': 'Echo Therapeutics, Inc.', 'proposedExchange': 'Nasdaq SmallCap Market', 'proposedSharePrice': '7', 'sharesOffered': '800,000', 'pricedDate': '11/11/1997', 'dollarValueOfSharesOffered': '$5,600,000', 'dealStatus': 'Priced'}, {'proposedTickerSymbol': 'NCES', 'link': 'https://www.nasdaq.com/market-activity/ipos/overview?dealId=10655-9331', 'companyName': 'NOVACARE EMPLOYEE SERVICES INC', 'proposedExchange': 'Nasdaq National Market', 'proposedSharePrice': '9.00', 'sharesOffered': '5,000,000', 'pricedDate': '11/11/1997', 'dollarValueOfSharesOffered': '$45,000,000', 'dealStatus': 'Priced'}, {'proposedTickerSymbol': 'HYBR', 'link': 'https://www.nasdaq.com/market-activity/ipos/overview?dealId=43716-9401', 'companyName': 'HYBRID NETWORKS INC', 'proposedExchange': 'Nasdaq National Market', 'proposedSharePrice': '14', 'sharesOffered': '2,700,000', 'pricedDate': '11/12/1997', 'dollarValueOfSharesOffered': '$37,800,000', 'dealStatus': 'Priced'}, {'proposedTickerSymbol': 'BAYB', 'link': 'https://www.nasdaq.com/market-activity/ipos/overview?dealId=10724-9415', 'companyName': 'BAY BANCSHARES INC', 'proposedExchange': 'Nasdaq National Market', 'proposedSharePrice': '16.00', 'sharesOffered': '600,000', 'pricedDate': '11/12/1997', 'dollarValueOfSharesOffered': '$9,600,000', 'dealStatus': 'Priced'}, {'proposedTickerSymbol': 'MTEY', 'link': 'https://www.nasdaq.com/market-activity/ipos/overview?dealId=4326-8563', 'companyName': 'Matech Corp.', 'proposedExchange': 'OTCBB', 'proposedSharePrice': '0.750', 'sharesOffered': '707,911', 'pricedDate': '11/12/1997', 'dollarValueOfSharesOffered': '$530,933', 'dealStatus': 'Priced'}, {'proposedTickerSymbol': 'SPLN', 'link': 'https://www.nasdaq.com/market-activity/ipos/overview?dealId=2931-8674', 'companyName': 'SPORTSLINE COM INC', 'proposedExchange': 'Nasdaq National Market', 'proposedSharePrice': '8', 'sharesOffered': '3,500,000', 'pricedDate': '11/13/1997', 'dollarValueOfSharesOffered': '$28,000,000', 'dealStatus': 'Priced'}, {'proposedTickerSymbol': 'MGM', 'link': 'https://www.nasdaq.com/market-activity/ipos/overview?dealId=6819-9353', 'companyName': 'METRO-GOLDWYN-MAYER INC', 'proposedExchange': 'New York Stock Exchange', 'proposedSharePrice': '20', 'sharesOffered': '9,000,000', 'pricedDate': '11/13/1997', 'dollarValueOfSharesOffered': '$180,000,000', 'dealStatus': 'Priced'}, {'proposedTickerSymbol': 'BFSC', 'link': 'https://www.nasdaq.com/market-activity/ipos/overview?dealId=4754-9290', 'companyName': 'BINGHAM FINANCIAL SERVICES CORP', 'proposedExchange': 'OTCBB', 'proposedSharePrice': '10.00', 'sharesOffered': '1,200,000', 'pricedDate': '11/13/1997', 'dollarValueOfSharesOffered': '$12,000,000', 'dealStatus': 'Priced'}, {'proposedTickerSymbol': 'HYC', 'link': 'https://www.nasdaq.com/market-activity/ipos/overview?dealId=3865-9359', 'companyName': 'HYPERCOM CORP', 'proposedExchange': 'New York Stock Exchange', 'proposedSharePrice': '16.00', 'sharesOffered': '11,250,000', 'pricedDate': '11/14/1997', 'dollarValueOfSharesOffered': '$180,000,000', 'dealStatus': 'Priced'}, {'proposedTickerSymbol': 'FRND', 'link': 'https://www.nasdaq.com/market-activity/ipos/overview?dealId=3920-9299', 'companyName': 'FRIENDLY ICE CREAM CORP', 'proposedExchange': 'Nasdaq National Market', 'proposedSharePrice': '18', 'sharesOffered': '5,000,000', 'pricedDate': '11/14/1997', 'dollarValueOfSharesOffered': '$90,000,000', 'dealStatus': 'Priced'}, {'proposedTickerSymbol': 'CTHR', 'link': 'https://www.nasdaq.com/market-activity/ipos/overview?dealId=11968-9458', 'companyName': 'CHARLES & COLVARD LTD', 'proposedExchange': 'Nasdaq National Market', 'proposedSharePrice': '15', 'sharesOffered': '3,000,000', 'pricedDate': '11/14/1997', 'dollarValueOfSharesOffered': '$45,000,000', 'dealStatus': 'Priced'}, {'proposedTickerSymbol': 'MTD', 'link': 'https://www.nasdaq.com/market-activity/ipos/overview?dealId=1150-9373', 'companyName': 'METTLER TOLEDO INTERNATIONAL INC/', 'proposedExchange': 'New York Stock Exchange', 'proposedSharePrice': '14.00', 'sharesOffered': '6,666,667', 'pricedDate': '11/14/1997', 'dollarValueOfSharesOffered': '$93,333,338', 'dealStatus': 'Priced'}, {'proposedTickerSymbol': 'IIR', 'link': 'https://www.nasdaq.com/market-activity/ipos/overview?dealId=388-9333', 'companyName': 'IRI INTERNATIONAL CORP', 'proposedExchange': 'New York Stock Exchange', 'proposedSharePrice': '18.00', 'sharesOffered': '12,000,000', 'pricedDate': '11/14/1997', 'dollarValueOfSharesOffered': '$216,000,000', 'dealStatus': 'Priced'}, {'proposedTickerSymbol': 'TIMBZ', 'link': 'https://www.nasdaq.com/market-activity/ipos/overview?dealId=6882-9166', 'companyName': 'U S TIMBERLANDS CO LP', 'proposedExchange': 'Nasdaq National Market', 'proposedSharePrice': '21', 'sharesOffered': '7,458,684', 'pricedDate': '11/14/1997', 'dollarValueOfSharesOffered': '$156,632,364', 'dealStatus': 'Priced'}, {'proposedTickerSymbol': 'SFZAU', 'link': 'https://www.nasdaq.com/market-activity/ipos/overview?dealId=795-9132', 'companyName': 'SFORZA ENTERPRISES INC', 'proposedExchange': 'Nasdaq National Market', 'proposedSharePrice': '7.75', 'sharesOffered': '650,000', 'pricedDate': '11/17/1997', 'dollarValueOfSharesOffered': '$5,037,500', 'dealStatus': 'Priced'}, {'proposedTickerSymbol': 'AHGI', 'link': 'https://www.nasdaq.com/market-activity/ipos/overview?dealId=60944-6576', 'companyName': 'AVIATION HOLDINGS GROUP INC/FL', 'proposedExchange': 'OTCBB', 'proposedSharePrice': '4.25', 'sharesOffered': '1,650,000', 'pricedDate': '11/17/1997', 'dollarValueOfSharesOffered': '$7,012,500', 'dealStatus': 'Priced'}, {'proposedTickerSymbol': 'FMAX', 'link': 'https://www.nasdaq.com/market-activity/ipos/overview?dealId=10552-9294', 'companyName': 'FRANCHISE MORTGAGE ACCEPTANCE CO', 'proposedExchange': 'Nasdaq National Market', 'proposedSharePrice': '18.00', 'sharesOffered': '10,000,000', 'pricedDate': '11/18/1997', 'dollarValueOfSharesOffered': '$180,000,000', 'dealStatus': 'Priced'}, {'proposedTickerSymbol': 'AGS', 'link': 'https://www.nasdaq.com/market-activity/ipos/overview?dealId=9580-9443', 'companyName': 'SAGA SYSTEMS INC /DE/', 'proposedExchange': 'New York Stock Exchange', 'proposedSharePrice': '10', 'sharesOffered': '7,700,000', 'pricedDate': '11/18/1997', 'dollarValueOfSharesOffered': '$77,000,000', 'dealStatus': 'Priced'}, {'proposedTickerSymbol': 'LDMK', 'link': 'https://www.nasdaq.com/market-activity/ipos/overview?dealId=9201-9377', 'companyName': 'LANDMARK SYSTEMS CORP', 'proposedExchange': 'Nasdaq National Market', 'proposedSharePrice': '7', 'sharesOffered': '3,200,000', 'pricedDate': '11/18/1997', 'dollarValueOfSharesOffered': '$22,400,000', 'dealStatus': 'Priced'}, {'proposedTickerSymbol': 'PGNX', 'link': 'https://www.nasdaq.com/market-activity/ipos/overview?dealId=4953-9448', 'companyName': 'PROGENICS PHARMACEUTICALS INC', 'proposedExchange': 'Nasdaq National Market', 'proposedSharePrice': '8', 'sharesOffered': '2,000,000', 'pricedDate': '11/19/1997', 'dollarValueOfSharesOffered': '$16,000,000', 'dealStatus': 'Priced'}, {'proposedTickerSymbol': 'NIL', 'link': 'https://www.nasdaq.com/market-activity/ipos/overview?dealId=3428-8794', 'companyName': 'NOBLE INTERNATIONAL, LTD.', 'proposedExchange': 'American Stock Exchange', 'proposedSharePrice': '9', 'sharesOffered': '3,300,000', 'pricedDate': '11/19/1997', 'dollarValueOfSharesOffered': '$29,700,000', 'dealStatus': 'Priced'}, {'proposedTickerSymbol': 'IHF', 'link': 'https://www.nasdaq.com/market-activity/ipos/overview?dealId=9235-9419', 'companyName': 'INTERNATIONAL HOME FOODS INC', 'proposedExchange': 'New York Stock Exchange', 'proposedSharePrice': '20', 'sharesOffered': '13,622,500', 'pricedDate': '11/19/1997', 'dollarValueOfSharesOffered': '$272,450,000', 'dealStatus': 'Priced'}, {'proposedTickerSymbol': 'CRSZ', 'link': 'https://www.nasdaq.com/market-activity/ipos/overview?dealId=7883-9305', 'companyName': 'QUERYOBJECT SYSTEMS CORP', 'proposedExchange': 'Nasdaq SmallCap Market', 'proposedSharePrice': '6', 'sharesOffered': '2,500,000', 'pricedDate': '11/20/1997', 'dollarValueOfSharesOffered': '$15,000,000', 'dealStatus': 'Priced'}, {'proposedTickerSymbol': 'FLEM', 'link': 'https://www.nasdaq.com/market-activity/ipos/overview?dealId=7291-9203', 'companyName': 'NOVADEL PHARMA INC', 'proposedExchange': 'OTCBB', 'proposedSharePrice': '5.90', 'sharesOffered': '675,000', 'pricedDate': '11/20/1997', 'dollarValueOfSharesOffered': '$3,982,500', 'dealStatus': 'Priced'}, {'proposedTickerSymbol': 'ITVU', 'link': 'https://www.nasdaq.com/market-activity/ipos/overview?dealId=1874-9230', 'companyName': 'INTERVU INC', 'proposedExchange': 'Nasdaq National Market', 'proposedSharePrice': '9.50', 'sharesOffered': '2,000,000', 'pricedDate': '11/20/1997', 'dollarValueOfSharesOffered': '$19,000,000', 'dealStatus': 'Priced'}, {'proposedTickerSymbol': 'PTVL', 'link': 'https://www.nasdaq.com/market-activity/ipos/overview?dealId=510-9479', 'companyName': 'PREVIEW TRAVEL INC', 'proposedExchange': 'Nasdaq National Market', 'proposedSharePrice': '11.00', 'sharesOffered': '2,500,000', 'pricedDate': '11/20/1997', 'dollarValueOfSharesOffered': '$27,500,000', 'dealStatus': 'Priced'}, {'proposedTickerSymbol': 'TGNT', 'link': 'https://www.nasdaq.com/market-activity/ipos/overview?dealId=7558-9500', 'companyName': 'TELIGENT INC', 'proposedExchange': 'Nasdaq National Market', 'proposedSharePrice': '21.50', 'sharesOffered': '5,500,000', 'pricedDate': '11/21/1997', 'dollarValueOfSharesOffered': '$118,250,000', 'dealStatus': 'Priced'}, {'proposedTickerSymbol': 'PRTG', 'link': 'https://www.nasdaq.com/market-activity/ipos/overview?dealId=10560-9412', 'companyName': 'ENHERENT CORP', 'proposedExchange': 'Nasdaq National Market', 'proposedSharePrice': '13.00', 'sharesOffered': '4,600,000', 'pricedDate': '11/21/1997', 'dollarValueOfSharesOffered': '$59,800,000', 'dealStatus': 'Priced'}, {'proposedTickerSymbol': 'ROV', 'link': 'https://www.nasdaq.com/market-activity/ipos/overview?dealId=10700-9336', 'companyName': 'Spectrum Brands, Inc.', 'proposedExchange': 'New York Stock Exchange', 'proposedSharePrice': '14.00', 'sharesOffered': '6,700,000', 'pricedDate': '11/21/1997', 'dollarValueOfSharesOffered': '$93,800,000', 'dealStatus': 'Priced'}, {'proposedTickerSymbol': 'RNWK', 'link': 'https://www.nasdaq.com/market-activity/ipos/overview?dealId=2008-9440', 'companyName': 'REALNETWORKS INC', 'proposedExchange': 'Nasdaq National Market', 'proposedSharePrice': '12.50', 'sharesOffered': '3,000,000', 'pricedDate': '11/21/1997', 'dollarValueOfSharesOffered': '$37,500,000', 'dealStatus': 'Priced'}, {'proposedTickerSymbol': 'OYOG', 'link': 'https://www.nasdaq.com/market-activity/ipos/overview?dealId=1342-9452', 'companyName': 'GEOSPACE TECHNOLOGIES CORP', 'proposedExchange': 'Nasdaq National Market', 'proposedSharePrice': '14.00', 'sharesOffered': '2,000,000', 'pricedDate': '11/21/1997', 'dollarValueOfSharesOffered': '$28,000,000', 'dealStatus': 'Priced'}, {'proposedTickerSymbol': 'HWLD', 'link': 'https://www.nasdaq.com/market-activity/ipos/overview?dealId=910-9309', 'companyName': 'HEALTHWORLD CORP', 'proposedExchange': 'Nasdaq National Market', 'proposedSharePrice': '9', 'sharesOffered': '2,100,000', 'pricedDate': '11/21/1997', 'dollarValueOfSharesOffered': '$18,900,000', 'dealStatus': 'Priced'}, {'proposedTickerSymbol': 'HSH', 'link': 'https://www.nasdaq.com/market-activity/ipos/overview?dealId=43536-9379', 'companyName': 'HOMEUSA INC', 'proposedExchange': 'New York Stock Exchange', 'proposedSharePrice': '8.00', 'sharesOffered': '5,000,000', 'pricedDate': '11/21/1997', 'dollarValueOfSharesOffered': '$40,000,000', 'dealStatus': 'Priced'}, {'proposedTickerSymbol': 'GLGC', 'link': 'https://www.nasdaq.com/market-activity/ipos/overview?dealId=5222-9493', 'companyName': 'ORE PHARMACEUTICAL HOLDINGS INC.', 'proposedExchange': 'Nasdaq National Market', 'proposedSharePrice': '8', 'sharesOffered': '3,000,000', 'pricedDate': '11/21/1997', 'dollarValueOfSharesOffered': '$24,000,000', 'dealStatus': 'Priced'}, {'proposedTickerSymbol': 'DRF', 'link': 'https://www.nasdaq.com/market-activity/ipos/overview?dealId=522-9436', 'companyName': 'DAN RIVER INC /GA/', 'proposedExchange': 'New York Stock Exchange', 'proposedSharePrice': '15', 'sharesOffered': '6,700,000', 'pricedDate': '11/21/1997', 'dollarValueOfSharesOffered': '$100,500,000', 'dealStatus': 'Priced'}, {'proposedTickerSymbol': 'DNLI', 'link': 'https://www.nasdaq.com/market-activity/ipos/overview?dealId=1877-9460', 'companyName': 'DENALI INC', 'proposedExchange': 'Nasdaq National Market', 'proposedSharePrice': '13.00', 'sharesOffered': '2,100,000', 'pricedDate': '11/21/1997', 'dollarValueOfSharesOffered': '$27,300,000', 'dealStatus': 'Priced'}, {'proposedTickerSymbol': 'AFCO', 'link': 'https://www.nasdaq.com/market-activity/ipos/overview?dealId=7433-9349', 'companyName': 'APPLIED FILMS CORP', 'proposedExchange': 'Nasdaq National Market', 'proposedSharePrice': '8.50', 'sharesOffered': '1,900,000', 'pricedDate': '11/21/1997', 'dollarValueOfSharesOffered': '$16,150,000', 'dealStatus': 'Priced'}, {'proposedTickerSymbol': 'APPM', 'link': 'https://www.nasdaq.com/market-activity/ipos/overview?dealId=9066-9019', 'companyName': 'RADIOLOGIX INC', 'proposedExchange': 'Nasdaq National Market', 'proposedSharePrice': '12.00', 'sharesOffered': '3,000,000', 'pricedDate': '11/21/1997', 'dollarValueOfSharesOffered': '$36,000,000', 'dealStatus': 'Priced'}, {'proposedTickerSymbol': 'AMG', 'link': 'https://www.nasdaq.com/market-activity/ipos/overview?dealId=3249-9308', 'companyName': 'AFFILIATED MANAGERS GROUP, INC.', 'proposedExchange': 'New York Stock Exchange', 'proposedSharePrice': '23.50', 'sharesOffered': '7,500,000', 'pricedDate': '11/21/1997', 'dollarValueOfSharesOffered': '$176,250,000', 'dealStatus': 'Priced'}, {'proposedTickerSymbol': 'BASI', 'link': 'https://www.nasdaq.com/market-activity/ipos/overview?dealId=7849-9432', 'companyName': 'Inotiv, Inc.', 'proposedExchange': 'Nasdaq National Market', 'proposedSharePrice': '8.00', 'sharesOffered': '1,250,000', 'pricedDate': '11/25/1997', 'dollarValueOfSharesOffered': '$10,000,000', 'dealStatus': 'Priced'}, {'proposedTickerSymbol': 'AMCC', 'link': 'https://www.nasdaq.com/market-activity/ipos/overview?dealId=9399-9520', 'companyName': 'APPLIED MICRO CIRCUITS CORP', 'proposedExchange': 'Nasdaq National Market', 'proposedSharePrice': '8', 'sharesOffered': '5,553,000', 'pricedDate': '11/25/1997', 'dollarValueOfSharesOffered': '$44,424,000', 'dealStatus': 'Priced'}, {'proposedTickerSymbol': 'CRGO', 'link': 'https://www.nasdaq.com/market-activity/ipos/overview?dealId=4005-9483', 'companyName': 'MOTOR CARGO INDUSTRIES INC', 'proposedExchange': 'Nasdaq National Market', 'proposedSharePrice': '12.00', 'sharesOffered': '2,230,000', 'pricedDate': '11/25/1997', 'dollarValueOfSharesOffered': '$26,760,000', 'dealStatus': 'Priced'}, {'proposedTickerSymbol': 'ELIX', 'link': 'https://www.nasdaq.com/market-activity/ipos/overview?dealId=7729-9340', 'companyName': 'ELECTRIC LIGHTWAVE INC', 'proposedExchange': 'Nasdaq National Market', 'proposedSharePrice': '16.00', 'sharesOffered': '8,000,000', 'pricedDate': '11/25/1997', 'dollarValueOfSharesOffered': '$128,000,000', 'dealStatus': 'Priced'}, {'proposedTickerSymbol': 'HOLT', 'link': 'https://www.nasdaq.com/market-activity/ipos/overview?dealId=4946-9420', 'companyName': 'HOLTS CIGAR HOLDINGS INC', 'proposedExchange': 'Nasdaq National Market', 'proposedSharePrice': '12.00', 'sharesOffered': '1,750,000', 'pricedDate': '11/25/1997', 'dollarValueOfSharesOffered': '$21,000,000', 'dealStatus': 'Priced'}, {'proposedTickerSymbol': 'GMTC', 'link': 'https://www.nasdaq.com/market-activity/ipos/overview?dealId=4203-9323', 'companyName': 'GAMETECH INTERNATIONAL INC', 'proposedExchange': 'Nasdaq National Market', 'proposedSharePrice': '11', 'sharesOffered': '3,710,000', 'pricedDate': '11/25/1997', 'dollarValueOfSharesOffered': '$40,810,000', 'dealStatus': 'Priced'}, {'proposedTickerSymbol': 'INTA', 'link': 'https://www.nasdaq.com/market-activity/ipos/overview?dealId=8707-9221', 'companyName': 'INTERVEST BANCSHARES CORP', 'proposedExchange': 'Nasdaq SmallCap Market', 'proposedSharePrice': '10', 'sharesOffered': '650,000', 'pricedDate': '11/25/1997', 'dollarValueOfSharesOffered': '$6,500,000', 'dealStatus': 'Priced'}, {'proposedTickerSymbol': 'LTCW', 'link': 'https://www.nasdaq.com/market-activity/ipos/overview?dealId=5552-9298', 'companyName': 'LETS TALK CELLULAR & WIRELESS INC', 'proposedExchange': 'Nasdaq National Market', 'proposedSharePrice': '12', 'sharesOffered': '2,337,245', 'pricedDate': '11/25/1997', 'dollarValueOfSharesOffered': '$28,046,940', 'dealStatus': 'Priced'}, {'proposedTickerSymbol': 'MWI', 'link': 'https://www.nasdaq.com/market-activity/ipos/overview?dealId=991-9184', 'companyName': 'MEADOWCRAFT INC', 'proposedExchange': 'New York Stock Exchange', 'proposedSharePrice': '13', 'sharesOffered': '3,225,000', 'pricedDate': '11/25/1997', 'dollarValueOfSharesOffered': '$41,925,000', 'dealStatus': 'Priced'}, {'proposedTickerSymbol': 'PWHS', 'link': 'https://www.nasdaq.com/market-activity/ipos/overview?dealId=1261-9464', 'companyName': 'PAPER WAREHOUSE INC', 'proposedExchange': 'Nasdaq National Market', 'proposedSharePrice': '7.50', 'sharesOffered': '1,778,000', 'pricedDate': '11/25/1997', 'dollarValueOfSharesOffered': '$13,335,000', 'dealStatus': 'Priced'}, {'proposedTickerSymbol': 'TCW', 'link': 'https://www.nasdaq.com/market-activity/ipos/overview?dealId=1634-9315', 'companyName': 'TRAMMELL CROW CO', 'proposedExchange': 'New York Stock Exchange', 'proposedSharePrice': '17.50', 'sharesOffered': '5,000,000', 'pricedDate': '11/25/1997', 'dollarValueOfSharesOffered': '$87,500,000', 'dealStatus': 'Priced'}, {'proposedTickerSymbol': 'SIL', 'link': 'https://www.nasdaq.com/market-activity/ipos/overview?dealId=2567-9311', 'companyName': 'Golden Minerals Co', 'proposedExchange': 'American Stock Exchange', 'proposedSharePrice': '11', 'sharesOffered': '5,000,000', 'pricedDate': '11/25/1997', 'dollarValueOfSharesOffered': '$55,000,000', 'dealStatus': 'Priced'}, {'proposedTickerSymbol': 'XTRM', 'link': 'https://www.nasdaq.com/market-activity/ipos/overview?dealId=10232-9413', 'companyName': 'BRASS EAGLE INC', 'proposedExchange': 'Nasdaq National Market', 'proposedSharePrice': '11', 'sharesOffered': '2,275,000', 'pricedDate': '11/26/1997', 'dollarValueOfSharesOffered': '$25,025,000', 'dealStatus': 'Priced'}, {'proposedTickerSymbol': 'SCBHF', 'link': 'https://www.nasdaq.com/market-activity/ipos/overview?dealId=8065-9180', 'companyName': 'ALPHASTAR INSURANCE GROUP LTD', 'proposedExchange': 'Nasdaq National Market', 'proposedSharePrice': '22.00', 'sharesOffered': '2,975,000', 'pricedDate': '11/26/1997', 'dollarValueOfSharesOffered': '$65,450,000', 'dealStatus': 'Priced'}, {'proposedTickerSymbol': 'NANX', 'link': 'https://www.nasdaq.com/market-activity/ipos/overview?dealId=4234-9467', 'companyName': 'NANOPHASE TECHNOLOGIES Corp', 'proposedExchange': 'Nasdaq National Market', 'proposedSharePrice': '8.00', 'sharesOffered': '4,000,000', 'pricedDate': '11/26/1997', 'dollarValueOfSharesOffered': '$32,000,000', 'dealStatus': 'Priced'}, {'proposedTickerSymbol': 'MSSI', 'link': 'https://www.nasdaq.com/market-activity/ipos/overview?dealId=5513-9508', 'companyName': 'INTERLEUKIN GENETICS INC', 'proposedExchange': 'Nasdaq SmallCap Market', 'proposedSharePrice': '9', 'sharesOffered': '1,800,000', 'pricedDate': '11/26/1997', 'dollarValueOfSharesOffered': '$16,200,000', 'dealStatus': 'Priced'}, {'proposedTickerSymbol': 'LMFC', 'link': 'https://www.nasdaq.com/market-activity/ipos/overview?dealId=5318-8983', 'companyName': 'LANDMARK FINANCIAL CORP /DE', 'proposedExchange': 'Pink Sheets', 'proposedSharePrice': '10', 'sharesOffered': '152,000', 'pricedDate': '11/26/1997', 'dollarValueOfSharesOffered': '$1,520,000', 'dealStatus': 'Priced'}, {'proposedTickerSymbol': 'IBUY', 'link': 'https://www.nasdaq.com/market-activity/ipos/overview?dealId=43765-9417', 'companyName': '3DSHOPPING COM', 'proposedExchange': 'OTCBB', 'proposedSharePrice': '9.00', 'sharesOffered': '1,300,000', 'pricedDate': '11/26/1997', 'dollarValueOfSharesOffered': '$11,700,000', 'dealStatus': 'Priced'}, {'proposedTickerSymbol': 'HWM', 'link': 'https://www.nasdaq.com/market-activity/ipos/overview?dealId=3009-9517', 'companyName': 'HOWMET INTERNATIONAL INC', 'proposedExchange': 'New York Stock Exchange', 'proposedSharePrice': '15', 'sharesOffered': '15,000,000', 'pricedDate': '11/26/1997', 'dollarValueOfSharesOffered': '$225,000,000', 'dealStatus': 'Priced'}, {'proposedTickerSymbol': 'BUYR', 'link': 'https://www.nasdaq.com/market-activity/ipos/overview?dealId=2941-9416', 'companyName': 'BUILDING ONE SERVICES CORP', 'proposedExchange': 'Nasdaq National Market', 'proposedSharePrice': '20.00', 'sharesOffered': '24,000,000', 'pricedDate': '11/26/1997', 'dollarValueOfSharesOffered': '$480,000,000', 'dealStatus': 'Priced'}]\n"
     ]
    }
   ],
   "source": [
    "table = driver.find_element(By.XPATH,\n",
    "    '/html/body/div[3]/div/main/div[2]/div[2]/div[2]/div/div[2]/div/div[3]/div[5]/div[1]/div[1]/div/table')\n",
    "\n",
    "table_body = table.find_element(By.XPATH,'.//tbody')\n",
    "# print(body)\n",
    "# body.text\n",
    "table_rows = table_body.find_elements(By.XPATH, \".//tr[@class='market-calendar-table__row']\")\n",
    "table_data = []\n",
    "for row in table_rows:\n",
    "    row_data = {}\n",
    "    row_cells = row.find_elements(By.XPATH, \".//*[@role='cell']\")\n",
    "    # Symbol|Company Name\t|Exchange/ Market|Price\t|Shares\t|Date|Offer Amount\t|Actions\n",
    "    for cell in row_cells:\n",
    "        row_data[cell.get_attribute('data-column')] = cell.text\n",
    "        if cell.tag_name == 'th':\n",
    "            anchor = cell.find_element(By.XPATH, './/a')\n",
    "            row_data['link'] = anchor.get_attribute('href')\n",
    "    table_data.append(row_data)\n",
    "print(table_data)\n"
   ]
  },
  {
   "cell_type": "code",
   "execution_count": 24,
   "metadata": {},
   "outputs": [],
   "source": [
    "# /html/body/div[3]/div/main/div[2]/div[2]/div[2]/div/div[2]/div/div[3]/div[2]/button[2]\n",
    "next_button = WebDriverWait(driver, 10).until(EC.element_to_be_clickable((\n",
    "    By.XPATH, \".//button[@class='time-belt__next']\"))\n",
    "    ).click()\n",
    "# /html/body/div[3]/div/main/div[2]/div[2]/div[2]/div/div[2]/div/div[3]/div[2]/button[2]\n",
    "next_button = WebDriverWait(driver, 10).until(EC.element_to_be_clickable((\n",
    "    By.XPATH, \".//button[@class='time-belt__item']\"))\n",
    "    ).click()"
   ]
  },
  {
   "cell_type": "code",
   "execution_count": 41,
   "metadata": {},
   "outputs": [
    {
     "name": "stdout",
     "output_type": "stream",
     "text": [
      "[{'companyName': '\\nCOHOES BANCORP INC\\n', 'proposedExchange': '\\nNasdaq National Market\\n', 'proposedSharePrice': '\\n10.00\\n', 'sharesOffered': '\\n9,257,500\\n', 'pricedDate': '\\n01/04/1999\\n', 'dollarValueOfSharesOffered': '\\n$92,575,000\\n', 'dealStatus': '\\nPriced\\n'}, {'companyName': '\\nFIRST PLACE FINANCIAL CORP /DE/\\n', 'proposedExchange': '\\nNasdaq National Market\\n', 'proposedSharePrice': '\\n10.00\\n', 'sharesOffered': '\\n11,241,250\\n', 'pricedDate': '\\n01/04/1999\\n', 'dollarValueOfSharesOffered': '\\n$112,412,500\\n', 'dealStatus': '\\nPriced\\n'}, {'companyName': '\\nRIDGEWOOD FINANCIAL INC\\n', 'proposedExchange': '\\nNasdaq National Market\\n', 'proposedSharePrice': '\\n7.00\\n', 'sharesOffered': '\\n1,494,600\\n', 'pricedDate': '\\n01/08/1999\\n', 'dollarValueOfSharesOffered': '\\n$10,462,200\\n', 'dealStatus': '\\nPriced\\n'}, {'companyName': '\\nSTERLING BANCORP\\n', 'proposedExchange': '\\nNasdaq National Market\\n', 'proposedSharePrice': '\\n10.00\\n', 'sharesOffered': '\\n3,864,000\\n', 'pricedDate': '\\n01/08/1999\\n', 'dollarValueOfSharesOffered': '\\n$38,640,000\\n', 'dealStatus': '\\nPriced\\n'}, {'companyName': '\\nFIRST CAPITAL INC\\n', 'proposedExchange': '\\nNasdaq SmallCap Market\\n', 'proposedSharePrice': '\\n10.00\\n', 'sharesOffered': '\\n768,767\\n', 'pricedDate': '\\n01/08/1999\\n', 'dollarValueOfSharesOffered': '\\n$7,687,670\\n', 'dealStatus': '\\nPriced\\n'}, {'companyName': '\\nMARKETWATCH MEDIA INC\\n', 'proposedExchange': '\\nNasdaq National Market\\n', 'proposedSharePrice': '\\n17\\n', 'sharesOffered': '\\n2,750,000\\n', 'pricedDate': '\\n01/15/1999\\n', 'dollarValueOfSharesOffered': '\\n$46,750,000\\n', 'dealStatus': '\\nPriced\\n'}, {'companyName': '\\nCOVAD COMMUNICATIONS GROUP INC\\n', 'proposedExchange': '\\nNasdaq National Market\\n', 'proposedSharePrice': '\\n18\\n', 'sharesOffered': '\\n7,800,000\\n', 'pricedDate': '\\n01/22/1999\\n', 'dollarValueOfSharesOffered': '\\n$140,400,000\\n', 'dealStatus': '\\nPriced\\n'}, {'companyName': '\\nALLAIRE CORP\\n', 'proposedExchange': '\\nNasdaq National Market\\n', 'proposedSharePrice': '\\n20.00\\n', 'sharesOffered': '\\n2,500,000\\n', 'pricedDate': '\\n01/22/1999\\n', 'dollarValueOfSharesOffered': '\\n$50,000,000\\n', 'dealStatus': '\\nPriced\\n'}, {'companyName': '\\nNVIDIA CORP\\n', 'proposedExchange': '\\nNasdaq National Market\\n', 'proposedSharePrice': '\\n12.00\\n', 'sharesOffered': '\\n3,500,000\\n', 'pricedDate': '\\n01/22/1999\\n', 'dollarValueOfSharesOffered': '\\n$42,000,000\\n', 'dealStatus': '\\nPriced\\n'}, {'companyName': '\\nTOWER FINANCIAL CORP\\n', 'proposedExchange': '\\nOTCBB\\n', 'proposedSharePrice': '\\n10.00\\n', 'sharesOffered': '\\n2,200,000\\n', 'pricedDate': '\\n01/28/1999\\n', 'dollarValueOfSharesOffered': '\\n$22,000,000\\n', 'dealStatus': '\\nPriced\\n'}, {'companyName': '\\nTUT SYSTEMS INC\\n', 'proposedExchange': '\\nNasdaq National Market\\n', 'proposedSharePrice': '\\n18\\n', 'sharesOffered': '\\n2,500,000\\n', 'pricedDate': '\\n01/29/1999\\n', 'dollarValueOfSharesOffered': '\\n$45,000,000\\n', 'dealStatus': '\\nPriced\\n'}, {'companyName': '\\nECOMETRY CORP\\n', 'proposedExchange': '\\nNasdaq National Market\\n', 'proposedSharePrice': '\\n12\\n', 'sharesOffered': '\\n4,410,000\\n', 'pricedDate': '\\n01/29/1999\\n', 'dollarValueOfSharesOffered': '\\n$52,920,000\\n', 'dealStatus': '\\nPriced\\n'}, {'companyName': '\\nREDDY ICE GROUP INC\\n', 'proposedExchange': '\\nNasdaq National Market\\n', 'proposedSharePrice': '\\n8.50\\n', 'sharesOffered': '\\n10,750,000\\n', 'pricedDate': '\\n01/29/1999\\n', 'dollarValueOfSharesOffered': '\\n$91,375,000\\n', 'dealStatus': '\\nPriced\\n'}, {'companyName': '\\nAUDACY, INC.\\n', 'proposedExchange': '\\nNew York Stock Exchange\\n', 'proposedSharePrice': '\\n22.50\\n', 'sharesOffered': '\\n13,627,500\\n', 'pricedDate': '\\n01/29/1999\\n', 'dollarValueOfSharesOffered': '\\n$306,618,750\\n', 'dealStatus': '\\nPriced\\n'}, {'companyName': '\\nAMERICAN AXLE & MANUFACTURING HOLDINGS INC\\n', 'proposedExchange': '\\nNew York Stock Exchange\\n', 'proposedSharePrice': '\\n17.00\\n', 'sharesOffered': '\\n7,000,000\\n', 'pricedDate': '\\n01/29/1999\\n', 'dollarValueOfSharesOffered': '\\n$119,000,000\\n', 'dealStatus': '\\nPriced\\n'}]\n"
     ]
    }
   ],
   "source": [
    "from bs4 import BeautifulSoup\n",
    "soup = BeautifulSoup(html, 'html.parser')\n",
    "rows = soup.find_all('tr',{'class':'market-calendar-table__row'})\n",
    "data = []\n",
    "for row in rows:\n",
    "    row_data = {}\n",
    "    cells = row.find_all('td',{'role':'cell'})\n",
    "    for cell in cells:\n",
    "        row_data[cell['data-column']] = cell.text\n",
    "    data.append(row_data)\n",
    "print(data)\n",
    "        # Symbol|Company Name\t|Exchange/ Market|Price\t|Shares\t|Date|Offer Amount\t|Actions\n",
    "        # for cell in row_cells:\n",
    "        #     row_data[cell.get_attribute('data-column')] = cell.text\n",
    "        #     if cell.tag_name == 'th':\n",
    "        #         anchor = cell.find_element(By.XPATH, './/a')\n",
    "        #         row_data['link'] = anchor.get_attribute('href')\n",
    "        # table_data.append(row_data)"
   ]
  }
 ],
 "metadata": {
  "interpreter": {
   "hash": "b834e98849dd830995cef45fef40061e933db58847d4cb56560919edabbced90"
  },
  "kernelspec": {
   "display_name": "Python 3.10.4 ('regression')",
   "language": "python",
   "name": "python3"
  },
  "language_info": {
   "codemirror_mode": {
    "name": "ipython",
    "version": 3
   },
   "file_extension": ".py",
   "mimetype": "text/x-python",
   "name": "python",
   "nbconvert_exporter": "python",
   "pygments_lexer": "ipython3",
   "version": "3.10.4"
  },
  "orig_nbformat": 4
 },
 "nbformat": 4,
 "nbformat_minor": 2
}
