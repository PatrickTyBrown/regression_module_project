{
 "cells": [
  {
   "cell_type": "markdown",
   "metadata": {},
   "source": [
    "# Webscraper Notebook\n",
    "\n",
    "##### Order\n",
    "- Scrape Nasdaq IPO Calendar\n",
    "- Follow Links from Ininital Scrape and scrape company data\n",
    "- Search Company Stocks scrape first 180 days stock data\n",
    "\n"
   ]
  },
  {
   "cell_type": "markdown",
   "metadata": {},
   "source": [
    "#### Start By Importing what we will need"
   ]
  },
  {
   "cell_type": "code",
   "execution_count": 18,
   "metadata": {},
   "outputs": [],
   "source": [
    "from selenium import webdriver\n",
    "from selenium.webdriver.support.wait import WebDriverWait\n",
    "from selenium.webdriver.support import expected_conditions as EC\n",
    "from selenium.webdriver.common.by import By\n",
    "from selenium.webdriver.chrome.service import Service\n",
    "import pickle\n",
    "import time\n",
    "from bs4 import BeautifulSoup\n",
    "import random\n",
    "import json\n",
    "import request"
   ]
  },
  {
   "cell_type": "markdown",
   "metadata": {},
   "source": [
    "#### Define Functions that may be helpful later"
   ]
  },
  {
   "cell_type": "code",
   "execution_count": 2,
   "metadata": {},
   "outputs": [],
   "source": [
    "def pickle_file(obj, path):\n",
    "    file = open(path, 'wb')\n",
    "    pickle.dump(obj, file)\n",
    "    file.close()\n",
    "\n",
    "def load_pickle(path):\n",
    "    file = open(path, 'rb')\n",
    "    obj = pickle.load(file)\n",
    "    file.close()\n",
    "    return obj\n",
    "\n",
    "def start_driver(driver_path = './WebDriver/chromedriver'):\n",
    "    ser = Service(driver_path)\n",
    "    chrome_options = webdriver.ChromeOptions()\n",
    "    prefs = {\"profile.default_content_setting_values.notifications\" : 2}\n",
    "    chrome_options.add_experimental_option(\"prefs\",prefs)\n",
    "    chrome_options.add_argument('--no-sandbox')   \n",
    "    chrome_options.add_argument('--disable-dev-shm-usage')   \n",
    "    chrome_options.add_argument(\"--incognito\")\n",
    "    chrome_options.page_load_strategy = 'eager'\n",
    "    \n",
    "    driver_path = './WebDriver/chromedriver'\n",
    "    driver = webdriver.Chrome(service = ser, options=chrome_options)\n",
    "    return driver\n",
    "\n",
    "#Loading a webpage\n",
    "# driver.get('https://www.nasdaq.com/market-activity/ipos')"
   ]
  },
  {
   "cell_type": "markdown",
   "metadata": {},
   "source": [
    "## Scrape Nasdaq IPO Calendar\n",
    "\n",
    "- Define Scrape Specific Functions\n",
    "  - Navigate To Starting Date\n",
    "  - Generate Dictionary from rows in table\n",
    "  - Navigate to next page\n",
    "- Define Main Loop\n",
    "  - Load Driver\n",
    "  - Iterate Through Months from starting date to end date\n",
    "- Run"
   ]
  },
  {
   "cell_type": "code",
   "execution_count": 3,
   "metadata": {},
   "outputs": [],
   "source": [
    "def get_starting_page(driver, starting_date = '01/1995'):\n",
    "    #Open Date \n",
    "    date_button = WebDriverWait(driver, 10).until(EC.element_to_be_clickable((\n",
    "        By.XPATH, '/html/body/div[3]/div/main/div[2]/div[2]/div[2]/div/div[2]/div/div[2]/div[2]/button'))\n",
    "        ).click()\n",
    "\n",
    "    #Set Date Picker Date\n",
    "    date_picker = WebDriverWait(driver, 10).until(EC.element_to_be_clickable((\n",
    "        By.XPATH, '/html/body/div[3]/div/main/div[2]/div[2]/div[2]/div/div[2]/div/div[2]/div[2]/div/input'))\n",
    "        )\n",
    "    driver.execute_script(f\"arguments[0].value = '{starting_date}';\", date_picker)     \n",
    "        # .setAttribute('value', '01/1999')\n",
    "\n",
    "    #Navigate to New Page\n",
    "    apply_date_button = WebDriverWait(driver, 10).until(EC.element_to_be_clickable((\n",
    "        By.XPATH, '/html/body/div[3]/div/main/div[2]/div[2]/div[2]/div/div[2]/div/div[2]/div[2]/div/button[2]'))\n",
    "        ).click()\n",
    "\n",
    "def generate_data(driver):\n",
    "    table = driver.find_element(By.XPATH,\n",
    "        './/table',{'class':'market-calendar-table__table'})\n",
    "    html = table.get_attribute('innerHTML')\n",
    "    soup = BeautifulSoup(html, 'html.parser')\n",
    "    \n",
    "    url_base = 'https://www.nasdaq.com'\n",
    "    table_data = []\n",
    "    # print(soup)\n",
    "    # if soup.find('th').text == '':\n",
    "    #     return []\n",
    "\n",
    "    rows = soup.find_all('tr',{'class':'market-calendar-table__row'})\n",
    "    for row in rows:\n",
    "        row_data = {}\n",
    "\n",
    "        th = row.find('th', {'role':'cell'})\n",
    "        ticker = th.findChild().text\n",
    "        if not ticker:\n",
    "            continue\n",
    "\n",
    "        row_data[th['data-column']] = ticker\n",
    "        row_data['link'] = url_base + row.find('a')['href']\n",
    "\n",
    "        cells = row.find_all('td',{'role':'cell'})        \n",
    "        for cell in cells:\n",
    "            row_data[cell['data-column']] = cell.findChild().text\n",
    "        table_data.append(row_data)\n",
    "    return table_data\n",
    "\n",
    "# generate_data(driver)\n",
    "\n",
    "def get_next_calendar_page(driver):\n",
    "    next_scroll = WebDriverWait(driver, 10).until(EC.element_to_be_clickable((\n",
    "        By.XPATH, \".//button[@class='time-belt__next']\"))\n",
    "        ).click()\n",
    "\n",
    "    next_button = WebDriverWait(driver, 10).until(EC.element_to_be_clickable((\n",
    "        By.XPATH, \".//button[@class='time-belt__item']\"))\n",
    "        ).click()\n",
    "\n",
    "# get_next_calendar_page(driver)\n"
   ]
  },
  {
   "cell_type": "code",
   "execution_count": 6,
   "metadata": {},
   "outputs": [
    {
     "name": "stderr",
     "output_type": "stream",
     "text": [
      "/tmp/ipykernel_60201/412141742.py:12: DeprecationWarning: executable_path has been deprecated, please pass in a Service object\n",
      "  driver = webdriver.Chrome(driver_path, options=chrome_options)\n"
     ]
    },
    {
     "name": "stdout",
     "output_type": "stream",
     "text": [
      "Started Driver\n",
      "Loaded Initial Page\n",
      "Loaded Starting Page\n",
      "Checkpoint-2023\t(Total: 302;\t Len: 7630)\n",
      "All Done\n"
     ]
    }
   ],
   "source": [
    "def main_loop(pickup_file = False, starting_date= '01/1995', delay = 10):\n",
    "    if pickup_file:\n",
    "        data = load_pickle(pickup_file)\n",
    "    else:\n",
    "        data = []\n",
    "\n",
    "    driver = start_driver('./WebDriver/chromedriver')\n",
    "    print('Started Driver')\n",
    "\n",
    "    time.sleep(3)\n",
    "\n",
    "    driver.get('https://www.nasdaq.com/market-activity/ipos')\n",
    "    print('Loaded Initial Page')\n",
    "\n",
    "    # time.sleep(delay)\n",
    "\n",
    "    get_starting_page(driver, starting_date=starting_date)\n",
    "    print('Loaded Starting Page')\n",
    "\n",
    "    date_year = 0\n",
    "    count = 0\n",
    "    while date_year <= 2022:\n",
    "        count+=1\n",
    "        date_year = int(driver.find_element(By.XPATH, \".//button[@class='time-belt__item']\").get_attribute('data-year'))\n",
    "\n",
    "        data += generate_data(driver)\n",
    "        pickle_file(data, f'Data/nasdaq_checkpoint_{date_year}')\n",
    "        print(f'Checkpoint-{date_year}\\t(Navigations: {count};\\t Rows of Data: {len(data)})',end='\\r', flush=True)\n",
    "        time.sleep(random.randint(10,30))\n",
    "\n",
    "        get_next_calendar_page(driver)\n",
    "    \n",
    "    print('\\nAll Done')\n",
    "    return data\n",
    "\n",
    "data = main_loop(starting_date='02/1998', pickup_file='Data/nasdaq_checkpoint_1998')\n",
    "\n"
   ]
  },
  {
   "cell_type": "markdown",
   "metadata": {},
   "source": [
    "## Follow Links from Ininital Scrape and scrape company data\n",
    "\n",
    "- Define Scrape Specific Functions\n",
    "  - Load Data From Initial Scrape\n",
    "  - Get Page from link in data\n",
    "  - Generate Dictionary for page data\n",
    "  - Navigate to next page (Row in data)\n",
    "- Define Main Loop\n",
    "- Run"
   ]
  },
  {
   "cell_type": "code",
   "execution_count": 5,
   "metadata": {},
   "outputs": [],
   "source": [
    "def generate_company_overview_data(driver, data={}):\n",
    "    html = driver.page_source\n",
    "    soup = BeautifulSoup(html, 'html.parser')\n",
    "    table_soup = soup.find('table')\n",
    "    table_rows = table_soup.find_all('tr')\n",
    "    for row in table_rows:\n",
    "        data[row.find('th').text] = row.find('td').text\n",
    "    return data\n",
    "\n",
    "def generate_company_financials_data(driver, data={}):\n",
    "    html = driver.page_source\n",
    "    soup = BeautifulSoup(html, 'html.parser')\n",
    "    table_soup = soup.find('table')\n",
    "    table_rows = table_soup.find_all('tr')\n",
    "    for row in table_rows:\n",
    "        data[row.find('th').text] = row.find('td').text\n",
    "    filing_table = soup.find_all('tbody')[1]\n",
    "    filing_row = filing_table.find('tr')\n",
    "    filing_cells = filing_row.find_all('td')\n",
    "    data['form_type'] = filing_cells[1].text\n",
    "    data['filing_date_received'] = filing_cells[2].text\n",
    "    data['filing_link'] = filing_cells[3].find('a')['href']\n",
    "    return data\n",
    "\n",
    "def generate_company_experts_data(driver, data={}):\n",
    "    html = driver.page_source\n",
    "    soup = BeautifulSoup(html, 'html.parser')\n",
    "    table_soup = soup.find('table')\n",
    "    table_rows = table_soup.find_all('tr')\n",
    "    for row in table_rows:\n",
    "        data[row.find('td').text] = row.find('th').text\n",
    "    return data\n",
    "\n",
    "def driver_load_url(driver, url, delay = 5):\n",
    "    driver.get(url)\n",
    "    # time.sleep(delay)\n",
    "    time.sleep(random.randint(1,5))\n",
    "    driver.execute_script(\"window.stop();\")\n",
    "\n",
    "\n",
    "def navigate_to_financials(driver, url):\n",
    "    financial_url = url.replace('overview','financial-filings')\n",
    "    driver_load_url(driver, financial_url)\n",
    "    return financial_url\n",
    "\n",
    "def navigate_to_experts(driver, url):\n",
    "    expert_url = url.replace('overview','experts')\n",
    "    driver_load_url(driver, expert_url)\n",
    "    return expert_url\n",
    "\n",
    "def is_loading_error(driver):\n",
    "    error_elements = driver.find_elements(By.XPATH, './/div[@class=\"error-state\"]')\n",
    "    for error in error_elements:\n",
    "        if error.is_displayed():\n",
    "            return True\n",
    "    return False\n",
    "\n",
    "def retry(func, driver, row_data):\n",
    "    tries = 0\n",
    "    while tries <= 10:\n",
    "        try:\n",
    "            row_data =  func(driver, row_data)\n",
    "            tries = 100\n",
    "        except:\n",
    "            tries+=1\n",
    "            print(f'Error\\t(Try: {tries}/10)',end='\\r', flush=True)\n",
    "            if driver:\n",
    "                driver.close()\n",
    "            driver = False\n",
    "            time.sleep(random.randint(1,3))\n",
    "    return row_data\n",
    "\n",
    "def retry_load(func, driver, url):\n",
    "    tries = 0\n",
    "    while tries <= 10:\n",
    "        try:\n",
    "            if driver:\n",
    "                driver.close()\n",
    "            driver = start_driver('./WebDriver/chromedriver')\n",
    "            return func(driver, url)\n",
    "        except:\n",
    "            tries+=1\n",
    "            print(f'Error Loading\\t(Try: {tries}/10)',end='\\r', flush=True)\n",
    "            driver = False\n",
    "            time.sleep(random.randint(1,3))\n",
    "    return False\n"
   ]
  },
  {
   "cell_type": "code",
   "execution_count": 8,
   "metadata": {},
   "outputs": [
    {
     "name": "stdout",
     "output_type": "stream",
     "text": [
      "Checkpoint-SHP\t(Progress: 961/7611;\tSkipped: 0;\t Rows of Data: 961)))\r"
     ]
    },
    {
     "ename": "KeyboardInterrupt",
     "evalue": "",
     "output_type": "error",
     "traceback": [
      "\u001b[0;31m---------------------------------------------------------------------------\u001b[0m",
      "\u001b[0;31mKeyboardInterrupt\u001b[0m                         Traceback (most recent call last)",
      "\u001b[1;32m/home/patrick/Metis/metis-student-work/Linear Regression/Regression_Project/WebScraper.ipynb Cell 11'\u001b[0m in \u001b[0;36m<cell line: 75>\u001b[0;34m()\u001b[0m\n\u001b[1;32m     <a href='vscode-notebook-cell:/home/patrick/Metis/metis-student-work/Linear%20Regression/Regression_Project/WebScraper.ipynb#ch0000012?line=71'>72</a>\u001b[0m     pickle_file(data, \u001b[39mf\u001b[39m\u001b[39m'\u001b[39m\u001b[39mData/nasdaq_company_overview_checkpoint_complete\u001b[39m\u001b[39m'\u001b[39m)\n\u001b[1;32m     <a href='vscode-notebook-cell:/home/patrick/Metis/metis-student-work/Linear%20Regression/Regression_Project/WebScraper.ipynb#ch0000012?line=72'>73</a>\u001b[0m     \u001b[39mreturn\u001b[39;00m data\n\u001b[0;32m---> <a href='vscode-notebook-cell:/home/patrick/Metis/metis-student-work/Linear%20Regression/Regression_Project/WebScraper.ipynb#ch0000012?line=74'>75</a>\u001b[0m data \u001b[39m=\u001b[39m main_loop()\n",
      "\u001b[1;32m/home/patrick/Metis/metis-student-work/Linear Regression/Regression_Project/WebScraper.ipynb Cell 11'\u001b[0m in \u001b[0;36mmain_loop\u001b[0;34m()\u001b[0m\n\u001b[1;32m     <a href='vscode-notebook-cell:/home/patrick/Metis/metis-student-work/Linear%20Regression/Regression_Project/WebScraper.ipynb#ch0000012?line=66'>67</a>\u001b[0m     pickle_file(data, \u001b[39mf\u001b[39m\u001b[39m'\u001b[39m\u001b[39mData/nasdaq_company_overview_checkpoint\u001b[39m\u001b[39m'\u001b[39m)\n\u001b[1;32m     <a href='vscode-notebook-cell:/home/patrick/Metis/metis-student-work/Linear%20Regression/Regression_Project/WebScraper.ipynb#ch0000012?line=67'>68</a>\u001b[0m     \u001b[39mprint\u001b[39m(\u001b[39mf\u001b[39m\u001b[39m'\u001b[39m\u001b[39mCheckpoint-\u001b[39m\u001b[39m{\u001b[39;00mticker\u001b[39m}\u001b[39;00m\u001b[39m\\t\u001b[39;00m\u001b[39m(Progress: \u001b[39m\u001b[39m{\u001b[39;00mcount\u001b[39m}\u001b[39;00m\u001b[39m/\u001b[39m\u001b[39m{\u001b[39;00m\u001b[39mlen\u001b[39m(ipo_calendar_data)\u001b[39m}\u001b[39;00m\u001b[39m;\u001b[39m\u001b[39m\\t\u001b[39;00m\u001b[39mSkipped: \u001b[39m\u001b[39m{\u001b[39;00mskipped_count\u001b[39m}\u001b[39;00m\u001b[39m;\u001b[39m\u001b[39m\\t\u001b[39;00m\u001b[39m Rows of Data: \u001b[39m\u001b[39m{\u001b[39;00m\u001b[39mlen\u001b[39m(data)\u001b[39m}\u001b[39;00m\u001b[39m)\u001b[39m\u001b[39m'\u001b[39m,end\u001b[39m=\u001b[39m\u001b[39m'\u001b[39m\u001b[39m\\r\u001b[39;00m\u001b[39m'\u001b[39m, flush\u001b[39m=\u001b[39m\u001b[39mTrue\u001b[39;00m)\n\u001b[0;32m---> <a href='vscode-notebook-cell:/home/patrick/Metis/metis-student-work/Linear%20Regression/Regression_Project/WebScraper.ipynb#ch0000012?line=68'>69</a>\u001b[0m     time\u001b[39m.\u001b[39;49msleep(random\u001b[39m.\u001b[39;49mrandint(\u001b[39m1\u001b[39;49m,\u001b[39m8\u001b[39;49m))\n\u001b[1;32m     <a href='vscode-notebook-cell:/home/patrick/Metis/metis-student-work/Linear%20Regression/Regression_Project/WebScraper.ipynb#ch0000012?line=70'>71</a>\u001b[0m \u001b[39mprint\u001b[39m(\u001b[39m'\u001b[39m\u001b[39m\\n\u001b[39;00m\u001b[39mAll Done\u001b[39m\u001b[39m'\u001b[39m)\n\u001b[1;32m     <a href='vscode-notebook-cell:/home/patrick/Metis/metis-student-work/Linear%20Regression/Regression_Project/WebScraper.ipynb#ch0000012?line=71'>72</a>\u001b[0m pickle_file(data, \u001b[39mf\u001b[39m\u001b[39m'\u001b[39m\u001b[39mData/nasdaq_company_overview_checkpoint_complete\u001b[39m\u001b[39m'\u001b[39m)\n",
      "\u001b[0;31mKeyboardInterrupt\u001b[0m: "
     ]
    }
   ],
   "source": [
    "def main_loop():\n",
    "    # driver = start_driver('./WebDriver/chromedriver')\n",
    "    # print('Driver Loaded')\n",
    "\n",
    "    ipo_calendar_data = load_pickle('Data/nasdaq_ipos')\n",
    "\n",
    "    ipo_calendar_data = ipo_calendar_data[19:]\n",
    "    # driver = start_driver('./WebDriver/chromedriver')\n",
    "    data = []\n",
    "    skipped_count = 0\n",
    "    count = 0\n",
    "\n",
    "    for entry in ipo_calendar_data:\n",
    "        \n",
    "        count +=1\n",
    "        ticker = entry['proposedTickerSymbol']   \n",
    "        url = entry['link']\n",
    "        \n",
    "        if url:\n",
    "            row_data = {}\n",
    "            row_data ['proposedTickerSymbol']= ticker\n",
    "            tries = 0\n",
    "            while tries <= 10:\n",
    "                try:\n",
    "                    if driver:\n",
    "                        driver.close()\n",
    "\n",
    "                    driver = start_driver('./WebDriver/chromedriver')\n",
    "                    driver_load_url(driver, url) \n",
    "                    row_data = generate_company_overview_data(driver, row_data) if ~is_loading_error(driver) else row_data\n",
    "                    tries = 10000\n",
    "                except:\n",
    "                    tries+=1\n",
    "                    print(f'Error Loading\\t(Try: {tries}/10)',end='\\r', flush=True)\n",
    "                    driver = False\n",
    "                    time.sleep(random.randint(1,3))\n",
    "            \n",
    "\n",
    "            # if retry_load(navigate_to_financials, driver, url):   \n",
    "            #     row_data = retry(generate_company_financials_data, driver, row_data) if ~is_loading_error(driver) else row_data\n",
    "\n",
    "            # if retry_load(navigate_to_experts, driver, url):   \n",
    "            #     row_data = retry(generate_company_experts_data, driver, row_data) if ~is_loading_error(driver) else row_data\n",
    "\n",
    "\n",
    "                # driver.close()\n",
    "                # driver = start_driver('./WebDriver/chromedriver')\n",
    "                # navigate_to_financials(driver, url)\n",
    "                # row_data = generate_company_financials_data(driver, row_data) if ~is_loading_error(driver) else row_data\n",
    "\n",
    "                # driver.close()\n",
    "                # driver = start_driver('./WebDriver/chromedriver')\n",
    "                # navigate_to_experts(driver, url)\n",
    "                # row_data = generate_company_experts_data(driver, row_data) if ~is_loading_error(driver) else row_data\n",
    "\n",
    "                    # tries+=1\n",
    "                    # print(f'Error-{ticker}\\t(Try: {tries}/10)',end='\\r', flush=True)\n",
    "                    # driver = False\n",
    "                    # time.sleep(random.randint(3,8))\n",
    "\n",
    "            data.append(row_data)\n",
    "        \n",
    "        else:\n",
    "            skipped_count +=1\n",
    "            print(f'Skipped-{ticker}',end='\\r', flush=True)\n",
    "\n",
    "        pickle_file(data, f'Data/nasdaq_company_overview_checkpoint')\n",
    "        print(f'Checkpoint-{ticker}\\t(Progress: {count}/{len(ipo_calendar_data)};\\tSkipped: {skipped_count};\\t Rows of Data: {len(data)})',end='\\r', flush=True)\n",
    "        time.sleep(random.randint(1,8))\n",
    "\n",
    "    print('\\nAll Done')\n",
    "    pickle_file(data, f'Data/nasdaq_company_overview_checkpoint_complete')\n",
    "    return data\n",
    "\n",
    "data = main_loop()\n",
    "\n"
   ]
  },
  {
   "cell_type": "code",
   "execution_count": 16,
   "metadata": {},
   "outputs": [],
   "source": [
    "driver = start_driver()\n",
    "driver.get('https://api.nasdaq.com/api/ipo/overview/?dealId=1205111-102356')"
   ]
  },
  {
   "cell_type": "code",
   "execution_count": 21,
   "metadata": {},
   "outputs": [],
   "source": [
    "null = None\n",
    "\n",
    "data = {\"data\":{\"poOverview\":{\"Symbol\":{\"label\":\"Proposed Symbol\",\"value\":\"SVRE\"},\"CompanyName\":{\"label\":\"Company Name\",\"value\":\"SaverOne 2014 Ltd.\"},\"Exchange\":{\"label\":\"Exchange\",\"value\":\"NASDAQ Capital\"},\"ProposedSharePrice\":{\"label\":\"Share Price\",\"value\":\"$4.13\"},\"NumberOfEmployees\":{\"label\":\"Employees\",\"value\":\"41 (as of 05/12/2022)\"},\"DealStatus\":{\"label\":\"Status\",\"value\":\"Filed\"},\"SharesOffered\":{\"label\":\"Shares Offered\",\"value\":2241379.0},\"DollarValueOfSharesOffered\":{\"label\":\"Offer amount\",\"value\":\"$12,150,121.34\"},\"SharesOverAllotment\":{\"label\":\"Shares Over Alloted\",\"value\":\"--\"},\"Address\":{\"label\":\"Company Address\",\"value\":\"EM HAMOSHAVOT RD. 94  PETAH TIKVAH  49130\"},\"PhoneNumber\":{\"label\":\"Company Phone\",\"value\":\"972-3-9094177\"},\"CompanyWebsite\":{\"label\":\"Company Website\",\"value\":\"<a href='http://www.saver.one' target='_blank'>www.saver.one</a>\"},\"CEO\":{\"label\":\"CEO\",\"value\":\"Ori Gilboa\"},\"StateOfIncorp\":{\"label\":\"State of Inc\",\"value\":\"--\"},\"FiscalYearEnd\":{\"label\":\"Fiscal Year End\",\"value\":\"12/31\"},\"TotalExpenseOfTheOffering\":{\"label\":\"Total Offering Expense\",\"value\":\"$600,000.00\"},\"ShareholderSharesOffered\":{\"label\":\"Shareholder Shares Offered\",\"value\":\"--\"},\"SharesOutstanding\":{\"label\":\"Shares Outstanding\",\"value\":\"3,838,320\"},\"LockupPeriodNumberofDays\":{\"label\":\"Lockup Period (days)\",\"value\":\"180\"},\"LockupPeriodExpirationDate\":{\"label\":\"Lockup Expiration\",\"value\":\"--\"},\"QuietPeriodExpirationDate\":{\"label\":\"Quiet Period Expiration\",\"value\":\"--\"},\"SECCIK\":{\"label\":\"CIK\",\"value\":\"0001894693\"},\"DealId\":{\"label\":\"DealId\",\"value\":\"1205111-102356\"}},\"companyInformation\":{\"companyName\":\"SaverOne 2014 Ltd.\",\"symbol\":\"SVRE\",\"companyDescription\":\"We are a technology company engaged in the design, development and\\ncommercialization of transportation and safety solutions designed to save lives\\nby preventing car accidents resulting from the use of mobile phones while\\ndriving. Our SaverOne system provides an advanced driver safety solution that\\ncan identify and monitor mobile phones located in the driver’s vicinity and\\nselectively block use of life-threatening applications. We have three\\ngenerations of systems, the first two of which target the automobile aftermarket\\nand the third which is intended to target vehicle manufacturers. We have\\ncompleted the development of our Generation 1.0 system and are in the\\npre-commercialization/early use phase while the development of our Generation\\n2.0 system, which will replace Generation 1.0, is nearing completion. The\\nGeneration 3.0 system is in the early stages of development.\\n\\nOur SaverOne system can be utilized in vehicles owned or leased by companies\\nthat are provided to employees, or private vehicles, commercial trucks, buses\\nand other forms of transportation. Our technology is based on our proprietary\\nhardware, software and algorithms, and, because it meets the National Highway\\nTraffic Safety Administration, or NHTSA’s, guidelines for a complete solution\\nfor distracted driving as well as offers certain advantages that our competitors\\ndo not, we believe we have significant advantages over our competitors in the\\nmarket.\\n\\nIn the past several years, we believe that public awareness and demand for\\ndriver safety technologies has grown substantially. While there are currently\\nmany driver assistant products on the market, we believe that the safety of\\ndrivers will be substantially improved with our technology. Our mission is to\\nenhance driver safety by providing a solution that is highly reliable and able\\nto prevent certain driver distractions related to mobile phone usage while\\ndriving, which we believe is a major cause for driver distraction related\\nautomobile accidents. Mobile phone distracted driving is a leading cause of\\ntraffic accidents in the United States. According to a survey done by the NHTSA,\\n660,000 drivers in the United States attempt to use their mobile phones while\\ndriving at any given moment. The National Safety Council, or NSC reports that\\nmobile phone use during driving causes approximately 1.6 million traffic\\naccidents annually in the United States alone, leading to the death of\\napproximately 4,600 people and injuring an additional 391,000 people. Moreover,\\nthe Federal Motor Carrier Safety Administration, or FMCSA, reported that 71% of\\ncommercially driven large-truck crashes occurred because of driver distraction.\\nThe number of accidents caused by distracted driving increased each year from\\n2015 – 2019 according to the NHTSA.\\n\\nDistracted driving due to mobile phone usage is not just a problem in the United\\nStates. A number of surveys conducted across Europe and Oceania have revealed\\ntroubling statistics about its prevalence across nations. In the Czech Republic,\\n36% of drivers admitted to using their phone almost every time they get behind\\nthe wheel. In both Spain and Ireland, 25% of drivers admitted to using their\\nphone while driving. In Germany, at any given moment an average of 7% of all\\ndrivers are distracted while driving. This problem of distracted driving\\nextends to Australia as well, where one-quarter of drivers admitted to using\\ntheir phone while driving.\\n\\nCurrently there are 277 million cars and trucks on the road in the US and 339\\nmillion cars and trucks on the road in Europe and 32 million new cars and trucks\\nare added each year.\\n\\nThe ramifications of mobile phone distracted driving exceed the bounds of just\\nphysical damage, as they can be exceedingly costly for drivers as well. For\\nexample, expressed on a per death basis, the cost of all motor-vehicle crashes\\n(fatal, nonfatal injury, and property damage) was $11,880,000 according to the\\nNSC. In addition, the total societal and economic costs of distracted driving\\ncrashes in the United States was estimated at $871 billion according to the\\nNHTSA. Specifically with regard to commercial vehicle crashes, the average total\\ncosts of commercial motor vehicle crashes for the years of 2009-2011 was over\\n$83 billion per year according to the FMCSA. Accordingly, we believe that there\\nis a tremendous financial incentive for a solution to this grave problem.\\n\\nIn response to the need for a solution to distracted driving resulting from the\\nuse of mobile phones, the NHTSA has published a comprehensive study suggesting\\nthat a complete solution must contain the following features: (i) the ability to\\ndistinguish between the driver’s area of the vehicle and the rest of the\\nvehicle, (ii) does not depend on the cooperation of the driver, and (iii)\\nselective blocking of cell phone applications. Our SaverOne system has been\\ndesigned with these features in mind.\\n\\nThe NHTSA’s driving guidelines do not constitute U.S. law and compliance does\\nnot result in compliance with U.S. driving safety regulations. In order to\\nmarket our products to vehicle manufacturers we may be required to meet\\ndifferent types of regulations requirements such as International Organization\\nfor Standardization (ISO) 26262 Functional Safety Regulations (ASIL), the\\nInternational Standard for Automotive Quality Management Systems (IAFT) 16949,\\nAutomotive Software Process Improvement and Capability Determination (SPICE) or\\nother common quality management standards. In order to meet the quality\\nrequirements, we will have to cooperate with vehicle manufacturers, to receive\\ntheir customers’ quality requirements that meet the requisite regulation of such\\ncustomers and implement tools, processes and methodologies. Such implementation\\nwill require significant resources and funds and is expected to consume\\nsignificant time and effort. We expect that only our Generation 3.0 solution,\\nwhich is a solution designed for the original equipment manufacturers, or OEM\\nmarket, may require compliance with the foregoing regulations, whereas our\\nGeneration 1.0 and 2.0 solutions, both after-market solutions, are not required\\nto comply with the foregoing regulations.\\n\\nThe SaverOne system currently has achieved safety and radiation certifications\\nfrom Hermon Laboratories, an internationally approved testing and certification\\nlab. SaverOne’s solution is certified for operating in Israel, the United\\nStates, Europe and Japan. These certifications assure that SaverOne product\\ncomplies with the regulations/legislations in these countries/regions.\\n\\nGeneration 1.0 is our first-generation solution and is intended for private\\nvehicles, trucks and buses as an aftermarket product. Our Generation 1.0 was\\nlaunched in late 2019 for private cars, and thereafter made commercially\\navailable to trucks and buses. It is currently marketed in Israel as part of our\\npre-commercialization/early user campaign. To date, over 1,470 systems have been\\nordered (which includes over 300 systems ordered as part of our ongoing\\nGeneration 1.0 pilot program and over 1,150 systems purchased in commercial\\norders by our Generation 1.0 pilot program customers) and nearly 800 of these\\nsystems have been installed.\\n\\nGeneration 2.0 is our second-generation solution that will replace Generation\\n1.0 and is intended as a solution for the automobile aftermarket. It includes\\nvarious improvements to our Generation 1.0 solution for maximal performance,\\ncompatibility with automobiles and cellular networks, market penetration and\\nprofitability. We expect to launch the Generation 2.0 solution for sale in the\\nsecond quarter of 2022 and we expect to target the global aftermarket automobile\\nmarket starting with the U.S., Europe and Asia Pacific, or APAC. In Europe and\\nAPAC, we are working on pilot programs with various fleet and system\\nintegrators. With respect to the U.S., we are in the process of developing a\\nstrategic marketing plan for the rollout of our Generation 2.0 solution in the\\nU.S.\\n\\nOur Generation 3.0 solution is being designed as a solution for the OEM market\\nand we plan on it being directly integrated into the vehicle manufacturing\\nprocess for seamless integration in the driving experience. We are currently\\nworking with one of the leading global OEMs in order to make the installation of\\nthe SaverOne System into vehicles system an essential part of the vehicle\\nmanufacturing process. The Generation 3.0 solution is in the early stage of\\ndevelopment and we expect to launch the Generation 3.0 solution in 2025.\\n---\\n\\nWe were incorporated in Israel on November 16, 2014. Our principal executive\\noffice is located at Em Hamoshavot Rd. 94, Petah Tikvah, Israel and our phone\\nnumber is +972-3909-4177. We maintain a corporate website at www.saver.one.\"}},\"message\":null,\"status\":{\"rCode\":200,\"bCodeMessage\":null,\"developerMessage\":null}}"
   ]
  },
  {
   "cell_type": "code",
   "execution_count": 37,
   "metadata": {},
   "outputs": [
    {
     "name": "stdout",
     "output_type": "stream",
     "text": [
      "dict_keys(['Symbol', 'CompanyName', 'Exchange', 'ProposedSharePrice', 'NumberOfEmployees', 'DealStatus', 'SharesOffered', 'DollarValueOfSharesOffered', 'SharesOverAllotment', 'Address', 'PhoneNumber', 'CompanyWebsite', 'CEO', 'StateOfIncorp', 'FiscalYearEnd', 'TotalExpenseOfTheOffering', 'ShareholderSharesOffered', 'SharesOutstanding', 'LockupPeriodNumberofDays', 'LockupPeriodExpirationDate', 'QuietPeriodExpirationDate', 'SECCIK', 'DealId'])\n"
     ]
    },
    {
     "data": {
      "text/plain": [
       "{'Proposed Symbol': 'SVRE',\n",
       " 'Company Name': 'SaverOne 2014 Ltd.',\n",
       " 'Exchange': 'NASDAQ Capital',\n",
       " 'Share Price': '$4.13',\n",
       " 'Employees': '41 (as of 05/12/2022)',\n",
       " 'Status': 'Filed',\n",
       " 'Shares Offered': 2241379.0,\n",
       " 'Offer amount': '$12,150,121.34',\n",
       " 'Shares Over Alloted': '--',\n",
       " 'Company Address': 'EM HAMOSHAVOT RD. 94  PETAH TIKVAH  49130',\n",
       " 'Company Phone': '972-3-9094177',\n",
       " 'Company Website': \"<a href='http://www.saver.one' target='_blank'>www.saver.one</a>\",\n",
       " 'CEO': 'Ori Gilboa',\n",
       " 'State of Inc': '--',\n",
       " 'Fiscal Year End': '12/31',\n",
       " 'Total Offering Expense': '$600,000.00',\n",
       " 'Shareholder Shares Offered': '--',\n",
       " 'Shares Outstanding': '3,838,320',\n",
       " 'Lockup Period (days)': '180',\n",
       " 'Lockup Expiration': '--',\n",
       " 'Quiet Period Expiration': '--',\n",
       " 'CIK': '0001894693',\n",
       " 'DealId': '1205111-102356'}"
      ]
     },
     "execution_count": 37,
     "metadata": {},
     "output_type": "execute_result"
    }
   ],
   "source": [
    "print(data['data']['poOverview'].keys())\n",
    "\n",
    "data['data']['companyInformation'].keys()\n",
    "row = {}\n",
    "for d in data['data']['poOverview'].values():\n",
    "    row[d['label']] = d['value']\n",
    "row\n",
    "\n",
    "# data['data']['poOverview'].values()\n"
   ]
  },
  {
   "cell_type": "code",
   "execution_count": 31,
   "metadata": {},
   "outputs": [
    {
     "data": {
      "text/plain": [
       "{}"
      ]
     },
     "execution_count": 31,
     "metadata": {},
     "output_type": "execute_result"
    }
   ],
   "source": [
    "row"
   ]
  },
  {
   "cell_type": "markdown",
   "metadata": {},
   "source": [
    "## Search Company Stocks scrape first 180 days stock data\n",
    "\n",
    "- Define Scrape Specific Functions\n",
    "  - Load Data From Initial Scrape\n",
    "  - Generate Search Url for ticker\n",
    "  - Check if search has valid results\n",
    "  - Generate Dictionary for page data\n",
    "  - Navigate to next\n",
    "- Define Main Loop\n",
    "- Run"
   ]
  }
 ],
 "metadata": {
  "interpreter": {
   "hash": "b834e98849dd830995cef45fef40061e933db58847d4cb56560919edabbced90"
  },
  "kernelspec": {
   "display_name": "Python 3.10.4 ('regression')",
   "language": "python",
   "name": "python3"
  },
  "language_info": {
   "codemirror_mode": {
    "name": "ipython",
    "version": 3
   },
   "file_extension": ".py",
   "mimetype": "text/x-python",
   "name": "python",
   "nbconvert_exporter": "python",
   "pygments_lexer": "ipython3",
   "version": "3.10.4"
  },
  "orig_nbformat": 4
 },
 "nbformat": 4,
 "nbformat_minor": 2
}
