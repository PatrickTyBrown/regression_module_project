{
 "cells": [
  {
   "cell_type": "code",
   "execution_count": 1,
   "metadata": {},
   "outputs": [],
   "source": [
    "from selenium import webdriver\n",
    "from selenium.webdriver.support.wait import WebDriverWait\n",
    "from selenium.webdriver.support import expected_conditions as EC\n",
    "from selenium.webdriver.common.by import By"
   ]
  },
  {
   "cell_type": "code",
   "execution_count": 18,
   "metadata": {},
   "outputs": [
    {
     "name": "stderr",
     "output_type": "stream",
     "text": [
      "/tmp/ipykernel_3042/2995515328.py:5: DeprecationWarning: executable_path has been deprecated, please pass in a Service object\n",
      "  driver = webdriver.Chrome(driver_path)\n"
     ]
    }
   ],
   "source": [
    "driver_path = './WebDriver/chromedriver'\n",
    "\n",
    "#   options = ChromeOptions()\n",
    "#   driver = webdriver.Chrome(driver_path,options=options)\n",
    "driver = webdriver.Chrome(driver_path)"
   ]
  },
  {
   "cell_type": "code",
   "execution_count": 19,
   "metadata": {},
   "outputs": [],
   "source": [
    "driver.get('https://www.nasdaq.com/market-activity/ipos')\n"
   ]
  },
  {
   "cell_type": "code",
   "execution_count": 20,
   "metadata": {},
   "outputs": [],
   "source": [
    "date_button = WebDriverWait(driver, 10).until(EC.element_to_be_clickable((\n",
    "    By.XPATH, '/html/body/div[3]/div/main/div[2]/div[2]/div[2]/div/div[2]/div/div[2]/div[2]/button'))\n",
    "    ).click()"
   ]
  },
  {
   "cell_type": "code",
   "execution_count": 21,
   "metadata": {},
   "outputs": [],
   "source": [
    "date_picker = WebDriverWait(driver, 10).until(EC.element_to_be_clickable((\n",
    "    By.XPATH, '/html/body/div[3]/div/main/div[2]/div[2]/div[2]/div/div[2]/div/div[2]/div[2]/div/input'))\n",
    "    )\n",
    "driver.execute_script(\"arguments[0].value = '01/1995';\", date_picker)     \n",
    "    # .setAttribute('value', '01/1999')"
   ]
  },
  {
   "cell_type": "code",
   "execution_count": 22,
   "metadata": {},
   "outputs": [],
   "source": [
    "apply_date_button = WebDriverWait(driver, 10).until(EC.element_to_be_clickable((\n",
    "    By.XPATH, '/html/body/div[3]/div/main/div[2]/div[2]/div[2]/div/div[2]/div/div[2]/div[2]/div/button[2]'))\n",
    "    ).click()"
   ]
  },
  {
   "cell_type": "code",
   "execution_count": 28,
   "metadata": {},
   "outputs": [
    {
     "name": "stdout",
     "output_type": "stream",
     "text": [
      "[{'proposedTickerSymbol': 'RPAI', 'link': 'https://www.nasdaq.com/market-activity/ipos/overview?dealId=400362-66372', 'companyName': 'RETAIL PROPERTIES OF AMERICA, INC.', 'proposedExchange': 'New York Stock Exchange', 'proposedSharePrice': '8.00', 'sharesOffered': '31,800,000', 'pricedDate': '04/05/2012', 'dollarValueOfSharesOffered': '$254,400,000', 'dealStatus': 'Priced'}, {'proposedTickerSymbol': 'MSGO', 'link': 'https://www.nasdaq.com/market-activity/ipos/overview?dealId=850114-67432', 'companyName': 'Redefy Corp', 'proposedExchange': 'OTCBB', 'proposedSharePrice': '0.35', 'sharesOffered': '400,000', 'pricedDate': '04/10/2012', 'dollarValueOfSharesOffered': '$140,000', 'dealStatus': 'Priced'}, {'proposedTickerSymbol': 'EAC', 'link': 'https://www.nasdaq.com/market-activity/ipos/overview?dealId=828320-64139', 'companyName': 'ERICKSON INC.', 'proposedExchange': 'Nasdaq National Market', 'proposedSharePrice': '8.00', 'sharesOffered': '4,800,000', 'pricedDate': '04/11/2012', 'dollarValueOfSharesOffered': '$38,400,000', 'dealStatus': 'Priced'}, {'proposedTickerSymbol': 'OAK', 'link': 'https://www.nasdaq.com/market-activity/ipos/overview?dealId=752340-67446', 'companyName': 'Oaktree Capital Group, LLC', 'proposedExchange': 'New York Stock Exchange', 'proposedSharePrice': '43.00', 'sharesOffered': '8,843,023', 'pricedDate': '04/12/2012', 'dollarValueOfSharesOffered': '$380,249,989', 'dealStatus': 'Priced'}, {'proposedTickerSymbol': 'FET', 'link': 'https://www.nasdaq.com/market-activity/ipos/overview?dealId=745737-68060', 'companyName': 'FORUM ENERGY TECHNOLOGIES, INC.', 'proposedExchange': 'New York Stock Exchange', 'proposedSharePrice': '20.00', 'sharesOffered': '18,947,366', 'pricedDate': '04/12/2012', 'dollarValueOfSharesOffered': '$378,947,320', 'dealStatus': 'Priced'}, {'proposedTickerSymbol': 'MRC', 'link': 'https://www.nasdaq.com/market-activity/ipos/overview?dealId=785894-69020', 'companyName': 'MRC GLOBAL INC.', 'proposedExchange': 'New York Stock Exchange', 'proposedSharePrice': '21.00', 'sharesOffered': '22,727,273', 'pricedDate': '04/12/2012', 'dollarValueOfSharesOffered': '$477,272,733', 'dealStatus': 'Priced'}, {'proposedTickerSymbol': 'DCIN', 'link': 'https://www.nasdaq.com/market-activity/ipos/overview?dealId=845674-68863', 'companyName': 'Digital Cinema Destinations Corp.', 'proposedExchange': 'Nasdaq SmallCap Market', 'proposedSharePrice': '6.10', 'sharesOffered': '2,200,000', 'pricedDate': '04/17/2012', 'dollarValueOfSharesOffered': '$13,420,000', 'dealStatus': 'Priced'}, {'proposedTickerSymbol': 'SDR', 'link': 'https://www.nasdaq.com/market-activity/ipos/overview?dealId=696018-68976', 'companyName': 'SANDRIDGE ENERGY INC', 'proposedExchange': 'New York Stock Exchange', 'proposedSharePrice': '21.00', 'sharesOffered': '26,000,000', 'pricedDate': '04/18/2012', 'dollarValueOfSharesOffered': '$546,000,000', 'dealStatus': 'Priced'}, {'proposedTickerSymbol': 'TUMI', 'link': 'https://www.nasdaq.com/market-activity/ipos/overview?dealId=869627-68806', 'companyName': 'Tumi Holdings, Inc.', 'proposedExchange': 'New York Stock Exchange', 'proposedSharePrice': '18.00', 'sharesOffered': '18,779,865', 'pricedDate': '04/19/2012', 'dollarValueOfSharesOffered': '$338,037,570', 'dealStatus': 'Priced'}, {'proposedTickerSymbol': 'SPLK', 'link': 'https://www.nasdaq.com/market-activity/ipos/overview?dealId=699512-69023', 'companyName': 'SPLUNK INC', 'proposedExchange': 'Nasdaq National Market', 'proposedSharePrice': '17.00', 'sharesOffered': '13,500,000', 'pricedDate': '04/19/2012', 'dollarValueOfSharesOffered': '$229,500,000', 'dealStatus': 'Priced'}, {'proposedTickerSymbol': 'PFPT', 'link': 'https://www.nasdaq.com/market-activity/ipos/overview?dealId=389844-68813', 'companyName': 'PROOFPOINT INC', 'proposedExchange': 'Nasdaq National Market', 'proposedSharePrice': '13.00', 'sharesOffered': '6,329,421', 'pricedDate': '04/20/2012', 'dollarValueOfSharesOffered': '$82,282,473', 'dealStatus': 'Priced'}, {'proposedTickerSymbol': 'MPO', 'link': 'https://www.nasdaq.com/market-activity/ipos/overview?dealId=867950-68626', 'companyName': 'Amplify Energy Corp.', 'proposedExchange': 'New York Stock Exchange', 'proposedSharePrice': '13.00', 'sharesOffered': '24,000,000', 'pricedDate': '04/20/2012', 'dollarValueOfSharesOffered': '$312,000,000', 'dealStatus': 'Priced'}, {'proposedTickerSymbol': 'GBLL', 'link': 'https://www.nasdaq.com/market-activity/ipos/overview?dealId=860951-68462', 'companyName': 'Green Ballast, Inc.', 'proposedExchange': 'OTCBB', 'proposedSharePrice': '0.48', 'sharesOffered': '24,450,400', 'pricedDate': '04/20/2012', 'dollarValueOfSharesOffered': '$11,736,192', 'dealStatus': 'Priced'}, {'proposedTickerSymbol': 'BLOX', 'link': 'https://www.nasdaq.com/market-activity/ipos/overview?dealId=401158-68992', 'companyName': 'INFOBLOX INC', 'proposedExchange': 'New York Stock Exchange', 'proposedSharePrice': '16.00', 'sharesOffered': '7,500,000', 'pricedDate': '04/20/2012', 'dollarValueOfSharesOffered': '$120,000,000', 'dealStatus': 'Priced'}, {'proposedTickerSymbol': 'CLIR', 'link': 'https://www.nasdaq.com/market-activity/ipos/overview?dealId=777788-68613', 'companyName': 'ClearSign Technologies Corp', 'proposedExchange': 'Nasdaq SmallCap Market', 'proposedSharePrice': '4.00', 'sharesOffered': '3,000,000', 'pricedDate': '04/25/2012', 'dollarValueOfSharesOffered': '$12,000,000', 'dealStatus': 'Priced'}, {'proposedTickerSymbol': 'ENVI', 'link': 'https://www.nasdaq.com/market-activity/ipos/overview?dealId=111175-66867', 'companyName': 'ENVIVIO INC', 'proposedExchange': 'Nasdaq National Market', 'proposedSharePrice': '9.00', 'sharesOffered': '7,755,000', 'pricedDate': '04/25/2012', 'dollarValueOfSharesOffered': '$69,795,000', 'dealStatus': 'Priced'}, {'proposedTickerSymbol': 'ACRE', 'link': 'https://www.nasdaq.com/market-activity/ipos/overview?dealId=863757-68164', 'companyName': 'Ares Commercial Real Estate Corp', 'proposedExchange': 'New York Stock Exchange', 'proposedSharePrice': '18.50', 'sharesOffered': '7,700,000', 'pricedDate': '04/26/2012', 'dollarValueOfSharesOffered': '$142,450,000', 'dealStatus': 'Priced'}, {'proposedTickerSymbol': 'EDG', 'link': 'https://www.nasdaq.com/market-activity/ipos/overview?dealId=870825-68936', 'companyName': 'Edgen Group Inc.', 'proposedExchange': 'New York Stock Exchange', 'proposedSharePrice': '11.00', 'sharesOffered': '15,000,000', 'pricedDate': '04/27/2012', 'dollarValueOfSharesOffered': '$165,000,000', 'dealStatus': 'Priced'}, {'proposedTickerSymbol': 'AQ', 'link': 'https://www.nasdaq.com/market-activity/ipos/overview?dealId=876716-69363', 'companyName': 'Acquity Group Ltd', 'proposedExchange': 'American Stock Exchange', 'proposedSharePrice': '6.00', 'sharesOffered': '5,555,556', 'pricedDate': '04/27/2012', 'dollarValueOfSharesOffered': '$33,333,336', 'dealStatus': 'Priced'}]\n"
     ]
    }
   ],
   "source": [
    "table = driver.find_element(By.XPATH,\n",
    "    '/html/body/div[3]/div/main/div[2]/div[2]/div[2]/div/div[2]/div/div[3]/div[5]/div[1]/div[1]/div/table')\n",
    "if table:\n",
    "    table_body = table.find_element(By.XPATH,'.//tbody')\n",
    "    # print(body)\n",
    "    # body.text\n",
    "    table_rows = table_body.find_elements(By.XPATH, \".//tr[@class='market-calendar-table__row']\")\n",
    "    table_data = []\n",
    "    for row in table_rows:\n",
    "        row_data = {}\n",
    "        row_cells = row.find_elements(By.XPATH, \".//*[@role='cell']\")\n",
    "        # Symbol|Company Name\t|Exchange/ Market|Price\t|Shares\t|Date|Offer Amount\t|Actions\n",
    "        for cell in row_cells:\n",
    "            row_data[cell.get_attribute('data-column')] = cell.text\n",
    "            if cell.tag_name == 'th':\n",
    "                anchor = cell.find_element(By.XPATH, './/a')\n",
    "                row_data['link'] = anchor.get_attribute('href')\n",
    "        table_data.append(row_data)\n",
    "    print(table_data)\n"
   ]
  },
  {
   "cell_type": "code",
   "execution_count": null,
   "metadata": {},
   "outputs": [],
   "source": []
  }
 ],
 "metadata": {
  "interpreter": {
   "hash": "b834e98849dd830995cef45fef40061e933db58847d4cb56560919edabbced90"
  },
  "kernelspec": {
   "display_name": "Python 3.10.4 ('regression')",
   "language": "python",
   "name": "python3"
  },
  "language_info": {
   "codemirror_mode": {
    "name": "ipython",
    "version": 3
   },
   "file_extension": ".py",
   "mimetype": "text/x-python",
   "name": "python",
   "nbconvert_exporter": "python",
   "pygments_lexer": "ipython3",
   "version": "3.10.4"
  },
  "orig_nbformat": 4
 },
 "nbformat": 4,
 "nbformat_minor": 2
}
