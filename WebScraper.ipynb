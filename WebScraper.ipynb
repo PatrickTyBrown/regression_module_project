{
 "cells": [
  {
   "cell_type": "code",
   "execution_count": 1,
   "metadata": {},
   "outputs": [],
   "source": [
    "from selenium import webdriver\n",
    "from selenium.webdriver.support.wait import WebDriverWait\n",
    "from selenium.webdriver.support import expected_conditions as EC\n",
    "from selenium.webdriver.common.by import By\n",
    "import pickle\n",
    "import time\n",
    "from bs4 import BeautifulSoup"
   ]
  },
  {
   "cell_type": "code",
   "execution_count": null,
   "metadata": {},
   "outputs": [],
   "source": [
    "def pickle_file(obj, path):\n",
    "    file = open(path, 'wb')\n",
    "    pickle.dump(obj, file)\n",
    "    file.close()\n",
    "\n",
    "def load_pickle(path):\n",
    "    file = open(path, 'rb')\n",
    "    obj = pickle.load(file)\n",
    "    file.close()\n",
    "    return obj"
   ]
  },
  {
   "cell_type": "markdown",
   "metadata": {},
   "source": [
    "### Start Webdriver"
   ]
  },
  {
   "cell_type": "code",
   "execution_count": 2,
   "metadata": {},
   "outputs": [
    {
     "name": "stderr",
     "output_type": "stream",
     "text": [
      "/tmp/ipykernel_20036/2995515328.py:5: DeprecationWarning: executable_path has been deprecated, please pass in a Service object\n",
      "  driver = webdriver.Chrome(driver_path)\n"
     ]
    }
   ],
   "source": [
    "driver_path = './WebDriver/chromedriver'\n",
    "driver = webdriver.Chrome(driver_path)\n",
    "\n",
    "#   options = ChromeOptions()\n",
    "#   driver = webdriver.Chrome(driver_path,options=options)"
   ]
  },
  {
   "cell_type": "markdown",
   "metadata": {},
   "source": [
    "### Load Webpage"
   ]
  },
  {
   "cell_type": "code",
   "execution_count": 3,
   "metadata": {},
   "outputs": [],
   "source": [
    "driver.get('https://www.nasdaq.com/market-activity/ipos')"
   ]
  },
  {
   "cell_type": "markdown",
   "metadata": {},
   "source": [
    "#### Navigate to old date"
   ]
  },
  {
   "cell_type": "code",
   "execution_count": 42,
   "metadata": {},
   "outputs": [],
   "source": [
    "def get_starting_page(driver, starting_date = '01/1995'):\n",
    "    #Open Date \n",
    "    date_button = WebDriverWait(driver, 10).until(EC.element_to_be_clickable((\n",
    "        By.XPATH, '/html/body/div[3]/div/main/div[2]/div[2]/div[2]/div/div[2]/div/div[2]/div[2]/button'))\n",
    "        ).click()\n",
    "\n",
    "    #Set Date Picker Date\n",
    "    date_picker = WebDriverWait(driver, 10).until(EC.element_to_be_clickable((\n",
    "        By.XPATH, '/html/body/div[3]/div/main/div[2]/div[2]/div[2]/div/div[2]/div/div[2]/div[2]/div/input'))\n",
    "        )\n",
    "    driver.execute_script(f\"arguments[0].value = {starting_date};\", date_picker)     \n",
    "        # .setAttribute('value', '01/1999')\n",
    "\n",
    "    #Navigate to New Page\n",
    "    apply_date_button = WebDriverWait(driver, 10).until(EC.element_to_be_clickable((\n",
    "        By.XPATH, '/html/body/div[3]/div/main/div[2]/div[2]/div[2]/div/div[2]/div/div[2]/div[2]/div/button[2]'))\n",
    "        ).click()"
   ]
  },
  {
   "cell_type": "markdown",
   "metadata": {},
   "source": [
    "### Build List of Dictionaries From Table"
   ]
  },
  {
   "cell_type": "code",
   "execution_count": 62,
   "metadata": {},
   "outputs": [
    {
     "data": {
      "text/plain": [
       "[{'proposedTickerSymbol': 'ASDG',\n",
       "  'link': 'https://www.nasdaq.com/market-activity/ipos/overview?dealId=1416-8081',\n",
       "  'companyName': 'Super Nova Resources Inc.',\n",
       "  'filedDate': '07/08/1996',\n",
       "  'dollarValueOfSharesOffered': '$5,433,750'},\n",
       " {'proposedTickerSymbol': 'ADIN',\n",
       "  'link': 'https://www.nasdaq.com/market-activity/ipos/overview?dealId=676-8350',\n",
       "  'companyName': 'AVIATION DISTRIBUTORS INC',\n",
       "  'filedDate': '07/12/1996',\n",
       "  'dollarValueOfSharesOffered': '$6,000,000'}]"
      ]
     },
     "execution_count": 62,
     "metadata": {},
     "output_type": "execute_result"
    }
   ],
   "source": [
    "def get_starting_page(driver):\n",
    "    #Open Date \n",
    "    date_button = WebDriverWait(driver, 10).until(EC.element_to_be_clickable((\n",
    "        By.XPATH, '/html/body/div[3]/div/main/div[2]/div[2]/div[2]/div/div[2]/div/div[2]/div[2]/button'))\n",
    "        ).click()\n",
    "\n",
    "    #Set Date Picker Date\n",
    "    date_picker = WebDriverWait(driver, 10).until(EC.element_to_be_clickable((\n",
    "        By.XPATH, '/html/body/div[3]/div/main/div[2]/div[2]/div[2]/div/div[2]/div/div[2]/div[2]/div/input'))\n",
    "        )\n",
    "    driver.execute_script(\"arguments[0].value = '01/1995';\", date_picker)     \n",
    "        # .setAttribute('value', '01/1999')\n",
    "\n",
    "    #Navigate to New Page\n",
    "    apply_date_button = WebDriverWait(driver, 10).until(EC.element_to_be_clickable((\n",
    "        By.XPATH, '/html/body/div[3]/div/main/div[2]/div[2]/div[2]/div/div[2]/div/div[2]/div[2]/div/button[2]'))\n",
    "        ).click()\n",
    "\n",
    "def generate_data(driver):\n",
    "    table = driver.find_element(By.XPATH,\n",
    "        '/html/body/div[3]/div/main/div[2]/div[2]/div[2]/div/div[2]/div/div[3]/div[5]/div[1]/div[1]/div/table')\n",
    "    html = table.get_attribute('innerHTML')\n",
    "    soup = BeautifulSoup(html, 'html.parser')\n",
    "    \n",
    "    url_base = 'https://www.nasdaq.com'\n",
    "    table_data = []\n",
    "    # print(soup)\n",
    "    # if soup.find('th').text == '':\n",
    "    #     return []\n",
    "\n",
    "    rows = soup.find_all('tr',{'class':'market-calendar-table__row'})\n",
    "    for row in rows:\n",
    "        row_data = {}\n",
    "\n",
    "        th = row.find('th', {'role':'cell'})\n",
    "        ticker = th.findChild().text\n",
    "        if not ticker:\n",
    "            continue\n",
    "\n",
    "        row_data[th['data-column']] = ticker\n",
    "        row_data['link'] = url_base + row.find('a')['href']\n",
    "\n",
    "        cells = row.find_all('td',{'role':'cell'})        \n",
    "        for cell in cells:\n",
    "            row_data[cell['data-column']] = cell.findChild().text\n",
    "        table_data.append(row_data)\n",
    "    return table_data\n",
    "\n",
    "# generate_data(driver)\n",
    "\n",
    "def get_next_calendar_page(driver):\n",
    "    next_scroll = WebDriverWait(driver, 10).until(EC.element_to_be_clickable((\n",
    "        By.XPATH, \".//button[@class='time-belt__next']\"))\n",
    "        ).click()\n",
    "\n",
    "    next_button = WebDriverWait(driver, 10).until(EC.element_to_be_clickable((\n",
    "        By.XPATH, \".//button[@class='time-belt__item']\"))\n",
    "        )\n",
    "    if int(next_button.get_attribute('data-year')) <= 2022:\n",
    "        next_button.click()\n",
    "    else:\n",
    "        return False\n",
    "    return True\n",
    "\n",
    "# get_next_calendar_page(driver)\n"
   ]
  },
  {
   "cell_type": "code",
   "execution_count": 74,
   "metadata": {},
   "outputs": [
    {
     "data": {
      "text/plain": [
       "False"
      ]
     },
     "execution_count": 74,
     "metadata": {},
     "output_type": "execute_result"
    }
   ],
   "source": []
  },
  {
   "cell_type": "code",
   "execution_count": null,
   "metadata": {},
   "outputs": [],
   "source": [
    "def main_loop(pickup_file = False, starting_date= '01/1995'):\n"
   ]
  }
 ],
 "metadata": {
  "interpreter": {
   "hash": "b834e98849dd830995cef45fef40061e933db58847d4cb56560919edabbced90"
  },
  "kernelspec": {
   "display_name": "Python 3.10.4 ('regression')",
   "language": "python",
   "name": "python3"
  },
  "language_info": {
   "codemirror_mode": {
    "name": "ipython",
    "version": 3
   },
   "file_extension": ".py",
   "mimetype": "text/x-python",
   "name": "python",
   "nbconvert_exporter": "python",
   "pygments_lexer": "ipython3",
   "version": "3.10.4"
  },
  "orig_nbformat": 4
 },
 "nbformat": 4,
 "nbformat_minor": 2
}
